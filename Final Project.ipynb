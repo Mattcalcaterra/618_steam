{
 "cells": [
  {
   "cell_type": "markdown",
   "metadata": {},
   "source": [
    "# Steam Marketplace Sentiment Prediction"
   ]
  },
  {
   "cell_type": "markdown",
   "metadata": {},
   "source": [
    "Matt Calcaterra<br>\n",
    "Mohammad Awad<br>"
   ]
  },
  {
   "cell_type": "markdown",
   "metadata": {},
   "source": [
    "## Purpose\n",
    "The intent of this project was to conduct an exploration of data and reviews for games in the Steam marketplace. After our exploration has been completed, we will attempt to build a model which can predict the sentiment of customers towards a new game which will be released. \n"
   ]
  },
  {
   "cell_type": "markdown",
   "metadata": {},
   "source": [
    "## Data acquisition\n",
    "Our data comes from two main sources: webscraping steam reviews and the steamspy API for game information\n",
    "\n",
    "Since both of these datasets are rather larger (specifically the reviews dataframe), they were collected in a different notebook and then saved to a csv file.\n",
    "\n",
    "### Steamspy API\n",
    "\n",
    "### Steam Reviews"
   ]
  },
  {
   "cell_type": "markdown",
   "metadata": {},
   "source": [
    "## Import Packages"
   ]
  },
  {
   "cell_type": "code",
   "execution_count": 100,
   "metadata": {},
   "outputs": [
    {
     "name": "stderr",
     "output_type": "stream",
     "text": [
      "[nltk_data] Downloading collection 'all'\n",
      "[nltk_data]    | \n",
      "[nltk_data]    | Downloading package abc to\n",
      "[nltk_data]    |     C:\\Users\\Matt\\AppData\\Roaming\\nltk_data...\n",
      "[nltk_data]    |   Package abc is already up-to-date!\n",
      "[nltk_data]    | Downloading package alpino to\n",
      "[nltk_data]    |     C:\\Users\\Matt\\AppData\\Roaming\\nltk_data...\n",
      "[nltk_data]    |   Package alpino is already up-to-date!\n",
      "[nltk_data]    | Downloading package averaged_perceptron_tagger to\n",
      "[nltk_data]    |     C:\\Users\\Matt\\AppData\\Roaming\\nltk_data...\n",
      "[nltk_data]    |   Package averaged_perceptron_tagger is already up-\n",
      "[nltk_data]    |       to-date!\n",
      "[nltk_data]    | Downloading package averaged_perceptron_tagger_ru to\n",
      "[nltk_data]    |     C:\\Users\\Matt\\AppData\\Roaming\\nltk_data...\n",
      "[nltk_data]    |   Package averaged_perceptron_tagger_ru is already\n",
      "[nltk_data]    |       up-to-date!\n",
      "[nltk_data]    | Downloading package basque_grammars to\n",
      "[nltk_data]    |     C:\\Users\\Matt\\AppData\\Roaming\\nltk_data...\n",
      "[nltk_data]    |   Package basque_grammars is already up-to-date!\n",
      "[nltk_data]    | Downloading package bcp47 to\n",
      "[nltk_data]    |     C:\\Users\\Matt\\AppData\\Roaming\\nltk_data...\n",
      "[nltk_data]    |   Package bcp47 is already up-to-date!\n",
      "[nltk_data]    | Downloading package biocreative_ppi to\n",
      "[nltk_data]    |     C:\\Users\\Matt\\AppData\\Roaming\\nltk_data...\n",
      "[nltk_data]    |   Package biocreative_ppi is already up-to-date!\n",
      "[nltk_data]    | Downloading package bllip_wsj_no_aux to\n",
      "[nltk_data]    |     C:\\Users\\Matt\\AppData\\Roaming\\nltk_data...\n",
      "[nltk_data]    |   Package bllip_wsj_no_aux is already up-to-date!\n",
      "[nltk_data]    | Downloading package book_grammars to\n",
      "[nltk_data]    |     C:\\Users\\Matt\\AppData\\Roaming\\nltk_data...\n",
      "[nltk_data]    |   Package book_grammars is already up-to-date!\n",
      "[nltk_data]    | Downloading package brown to\n",
      "[nltk_data]    |     C:\\Users\\Matt\\AppData\\Roaming\\nltk_data...\n",
      "[nltk_data]    |   Package brown is already up-to-date!\n",
      "[nltk_data]    | Downloading package brown_tei to\n",
      "[nltk_data]    |     C:\\Users\\Matt\\AppData\\Roaming\\nltk_data...\n",
      "[nltk_data]    |   Package brown_tei is already up-to-date!\n",
      "[nltk_data]    | Downloading package cess_cat to\n",
      "[nltk_data]    |     C:\\Users\\Matt\\AppData\\Roaming\\nltk_data...\n",
      "[nltk_data]    |   Package cess_cat is already up-to-date!\n",
      "[nltk_data]    | Downloading package cess_esp to\n",
      "[nltk_data]    |     C:\\Users\\Matt\\AppData\\Roaming\\nltk_data...\n",
      "[nltk_data]    |   Package cess_esp is already up-to-date!\n",
      "[nltk_data]    | Downloading package chat80 to\n",
      "[nltk_data]    |     C:\\Users\\Matt\\AppData\\Roaming\\nltk_data...\n",
      "[nltk_data]    |   Package chat80 is already up-to-date!\n",
      "[nltk_data]    | Downloading package city_database to\n",
      "[nltk_data]    |     C:\\Users\\Matt\\AppData\\Roaming\\nltk_data...\n",
      "[nltk_data]    |   Package city_database is already up-to-date!\n",
      "[nltk_data]    | Downloading package cmudict to\n",
      "[nltk_data]    |     C:\\Users\\Matt\\AppData\\Roaming\\nltk_data...\n",
      "[nltk_data]    |   Package cmudict is already up-to-date!\n",
      "[nltk_data]    | Downloading package comparative_sentences to\n",
      "[nltk_data]    |     C:\\Users\\Matt\\AppData\\Roaming\\nltk_data...\n",
      "[nltk_data]    |   Package comparative_sentences is already up-to-\n",
      "[nltk_data]    |       date!\n",
      "[nltk_data]    | Downloading package comtrans to\n",
      "[nltk_data]    |     C:\\Users\\Matt\\AppData\\Roaming\\nltk_data...\n",
      "[nltk_data]    |   Package comtrans is already up-to-date!\n",
      "[nltk_data]    | Downloading package conll2000 to\n",
      "[nltk_data]    |     C:\\Users\\Matt\\AppData\\Roaming\\nltk_data...\n",
      "[nltk_data]    |   Package conll2000 is already up-to-date!\n",
      "[nltk_data]    | Downloading package conll2002 to\n",
      "[nltk_data]    |     C:\\Users\\Matt\\AppData\\Roaming\\nltk_data...\n",
      "[nltk_data]    |   Package conll2002 is already up-to-date!\n",
      "[nltk_data]    | Downloading package conll2007 to\n",
      "[nltk_data]    |     C:\\Users\\Matt\\AppData\\Roaming\\nltk_data...\n",
      "[nltk_data]    |   Package conll2007 is already up-to-date!\n",
      "[nltk_data]    | Downloading package crubadan to\n",
      "[nltk_data]    |     C:\\Users\\Matt\\AppData\\Roaming\\nltk_data...\n",
      "[nltk_data]    |   Package crubadan is already up-to-date!\n",
      "[nltk_data]    | Downloading package dependency_treebank to\n",
      "[nltk_data]    |     C:\\Users\\Matt\\AppData\\Roaming\\nltk_data...\n",
      "[nltk_data]    |   Package dependency_treebank is already up-to-date!\n",
      "[nltk_data]    | Downloading package dolch to\n",
      "[nltk_data]    |     C:\\Users\\Matt\\AppData\\Roaming\\nltk_data...\n",
      "[nltk_data]    |   Package dolch is already up-to-date!\n",
      "[nltk_data]    | Downloading package europarl_raw to\n",
      "[nltk_data]    |     C:\\Users\\Matt\\AppData\\Roaming\\nltk_data...\n",
      "[nltk_data]    |   Package europarl_raw is already up-to-date!\n",
      "[nltk_data]    | Downloading package extended_omw to\n",
      "[nltk_data]    |     C:\\Users\\Matt\\AppData\\Roaming\\nltk_data...\n",
      "[nltk_data]    |   Package extended_omw is already up-to-date!\n",
      "[nltk_data]    | Downloading package floresta to\n",
      "[nltk_data]    |     C:\\Users\\Matt\\AppData\\Roaming\\nltk_data...\n",
      "[nltk_data]    |   Package floresta is already up-to-date!\n",
      "[nltk_data]    | Downloading package framenet_v15 to\n",
      "[nltk_data]    |     C:\\Users\\Matt\\AppData\\Roaming\\nltk_data...\n",
      "[nltk_data]    |   Package framenet_v15 is already up-to-date!\n",
      "[nltk_data]    | Downloading package framenet_v17 to\n",
      "[nltk_data]    |     C:\\Users\\Matt\\AppData\\Roaming\\nltk_data...\n",
      "[nltk_data]    |   Package framenet_v17 is already up-to-date!\n",
      "[nltk_data]    | Downloading package gazetteers to\n",
      "[nltk_data]    |     C:\\Users\\Matt\\AppData\\Roaming\\nltk_data...\n",
      "[nltk_data]    |   Package gazetteers is already up-to-date!\n",
      "[nltk_data]    | Downloading package genesis to\n",
      "[nltk_data]    |     C:\\Users\\Matt\\AppData\\Roaming\\nltk_data...\n",
      "[nltk_data]    |   Package genesis is already up-to-date!\n",
      "[nltk_data]    | Downloading package gutenberg to\n",
      "[nltk_data]    |     C:\\Users\\Matt\\AppData\\Roaming\\nltk_data...\n",
      "[nltk_data]    |   Package gutenberg is already up-to-date!\n",
      "[nltk_data]    | Downloading package ieer to\n",
      "[nltk_data]    |     C:\\Users\\Matt\\AppData\\Roaming\\nltk_data...\n",
      "[nltk_data]    |   Package ieer is already up-to-date!\n",
      "[nltk_data]    | Downloading package inaugural to\n",
      "[nltk_data]    |     C:\\Users\\Matt\\AppData\\Roaming\\nltk_data...\n",
      "[nltk_data]    |   Package inaugural is already up-to-date!\n",
      "[nltk_data]    | Downloading package indian to\n",
      "[nltk_data]    |     C:\\Users\\Matt\\AppData\\Roaming\\nltk_data...\n",
      "[nltk_data]    |   Package indian is already up-to-date!\n",
      "[nltk_data]    | Downloading package jeita to\n",
      "[nltk_data]    |     C:\\Users\\Matt\\AppData\\Roaming\\nltk_data...\n",
      "[nltk_data]    |   Package jeita is already up-to-date!\n",
      "[nltk_data]    | Downloading package kimmo to\n",
      "[nltk_data]    |     C:\\Users\\Matt\\AppData\\Roaming\\nltk_data...\n",
      "[nltk_data]    |   Package kimmo is already up-to-date!\n",
      "[nltk_data]    | Downloading package knbc to\n",
      "[nltk_data]    |     C:\\Users\\Matt\\AppData\\Roaming\\nltk_data...\n",
      "[nltk_data]    |   Package knbc is already up-to-date!\n",
      "[nltk_data]    | Downloading package large_grammars to\n",
      "[nltk_data]    |     C:\\Users\\Matt\\AppData\\Roaming\\nltk_data...\n",
      "[nltk_data]    |   Package large_grammars is already up-to-date!\n",
      "[nltk_data]    | Downloading package lin_thesaurus to\n",
      "[nltk_data]    |     C:\\Users\\Matt\\AppData\\Roaming\\nltk_data...\n",
      "[nltk_data]    |   Package lin_thesaurus is already up-to-date!\n",
      "[nltk_data]    | Downloading package mac_morpho to\n",
      "[nltk_data]    |     C:\\Users\\Matt\\AppData\\Roaming\\nltk_data...\n",
      "[nltk_data]    |   Package mac_morpho is already up-to-date!\n",
      "[nltk_data]    | Downloading package machado to\n",
      "[nltk_data]    |     C:\\Users\\Matt\\AppData\\Roaming\\nltk_data...\n",
      "[nltk_data]    |   Package machado is already up-to-date!\n",
      "[nltk_data]    | Downloading package masc_tagged to\n",
      "[nltk_data]    |     C:\\Users\\Matt\\AppData\\Roaming\\nltk_data...\n",
      "[nltk_data]    |   Package masc_tagged is already up-to-date!\n",
      "[nltk_data]    | Downloading package maxent_ne_chunker to\n",
      "[nltk_data]    |     C:\\Users\\Matt\\AppData\\Roaming\\nltk_data...\n",
      "[nltk_data]    |   Package maxent_ne_chunker is already up-to-date!\n",
      "[nltk_data]    | Downloading package maxent_treebank_pos_tagger to\n",
      "[nltk_data]    |     C:\\Users\\Matt\\AppData\\Roaming\\nltk_data...\n",
      "[nltk_data]    |   Package maxent_treebank_pos_tagger is already up-\n",
      "[nltk_data]    |       to-date!\n",
      "[nltk_data]    | Downloading package moses_sample to\n",
      "[nltk_data]    |     C:\\Users\\Matt\\AppData\\Roaming\\nltk_data...\n",
      "[nltk_data]    |   Package moses_sample is already up-to-date!\n",
      "[nltk_data]    | Downloading package movie_reviews to\n",
      "[nltk_data]    |     C:\\Users\\Matt\\AppData\\Roaming\\nltk_data...\n",
      "[nltk_data]    |   Package movie_reviews is already up-to-date!\n",
      "[nltk_data]    | Downloading package mte_teip5 to\n",
      "[nltk_data]    |     C:\\Users\\Matt\\AppData\\Roaming\\nltk_data...\n",
      "[nltk_data]    |   Package mte_teip5 is already up-to-date!\n",
      "[nltk_data]    | Downloading package mwa_ppdb to\n",
      "[nltk_data]    |     C:\\Users\\Matt\\AppData\\Roaming\\nltk_data...\n",
      "[nltk_data]    |   Package mwa_ppdb is already up-to-date!\n",
      "[nltk_data]    | Downloading package names to\n",
      "[nltk_data]    |     C:\\Users\\Matt\\AppData\\Roaming\\nltk_data...\n",
      "[nltk_data]    |   Package names is already up-to-date!\n",
      "[nltk_data]    | Downloading package nombank.1.0 to\n",
      "[nltk_data]    |     C:\\Users\\Matt\\AppData\\Roaming\\nltk_data...\n",
      "[nltk_data]    |   Package nombank.1.0 is already up-to-date!\n",
      "[nltk_data]    | Downloading package nonbreaking_prefixes to\n",
      "[nltk_data]    |     C:\\Users\\Matt\\AppData\\Roaming\\nltk_data...\n",
      "[nltk_data]    |   Package nonbreaking_prefixes is already up-to-date!\n",
      "[nltk_data]    | Downloading package nps_chat to\n",
      "[nltk_data]    |     C:\\Users\\Matt\\AppData\\Roaming\\nltk_data...\n",
      "[nltk_data]    |   Package nps_chat is already up-to-date!\n",
      "[nltk_data]    | Downloading package omw to\n",
      "[nltk_data]    |     C:\\Users\\Matt\\AppData\\Roaming\\nltk_data...\n",
      "[nltk_data]    |   Package omw is already up-to-date!\n",
      "[nltk_data]    | Downloading package omw-1.4 to\n",
      "[nltk_data]    |     C:\\Users\\Matt\\AppData\\Roaming\\nltk_data...\n",
      "[nltk_data]    |   Package omw-1.4 is already up-to-date!\n",
      "[nltk_data]    | Downloading package opinion_lexicon to\n",
      "[nltk_data]    |     C:\\Users\\Matt\\AppData\\Roaming\\nltk_data...\n",
      "[nltk_data]    |   Package opinion_lexicon is already up-to-date!\n",
      "[nltk_data]    | Downloading package panlex_swadesh to\n",
      "[nltk_data]    |     C:\\Users\\Matt\\AppData\\Roaming\\nltk_data...\n",
      "[nltk_data]    |   Package panlex_swadesh is already up-to-date!\n",
      "[nltk_data]    | Downloading package paradigms to\n",
      "[nltk_data]    |     C:\\Users\\Matt\\AppData\\Roaming\\nltk_data...\n",
      "[nltk_data]    |   Package paradigms is already up-to-date!\n",
      "[nltk_data]    | Downloading package pe08 to\n",
      "[nltk_data]    |     C:\\Users\\Matt\\AppData\\Roaming\\nltk_data...\n",
      "[nltk_data]    |   Package pe08 is already up-to-date!\n",
      "[nltk_data]    | Downloading package perluniprops to\n",
      "[nltk_data]    |     C:\\Users\\Matt\\AppData\\Roaming\\nltk_data...\n",
      "[nltk_data]    |   Package perluniprops is already up-to-date!\n",
      "[nltk_data]    | Downloading package pil to\n",
      "[nltk_data]    |     C:\\Users\\Matt\\AppData\\Roaming\\nltk_data...\n",
      "[nltk_data]    |   Package pil is already up-to-date!\n",
      "[nltk_data]    | Downloading package pl196x to\n",
      "[nltk_data]    |     C:\\Users\\Matt\\AppData\\Roaming\\nltk_data...\n",
      "[nltk_data]    |   Package pl196x is already up-to-date!\n",
      "[nltk_data]    | Downloading package porter_test to\n",
      "[nltk_data]    |     C:\\Users\\Matt\\AppData\\Roaming\\nltk_data...\n",
      "[nltk_data]    |   Package porter_test is already up-to-date!\n",
      "[nltk_data]    | Downloading package ppattach to\n",
      "[nltk_data]    |     C:\\Users\\Matt\\AppData\\Roaming\\nltk_data...\n",
      "[nltk_data]    |   Package ppattach is already up-to-date!\n",
      "[nltk_data]    | Downloading package problem_reports to\n",
      "[nltk_data]    |     C:\\Users\\Matt\\AppData\\Roaming\\nltk_data...\n",
      "[nltk_data]    |   Package problem_reports is already up-to-date!\n",
      "[nltk_data]    | Downloading package product_reviews_1 to\n",
      "[nltk_data]    |     C:\\Users\\Matt\\AppData\\Roaming\\nltk_data...\n",
      "[nltk_data]    |   Package product_reviews_1 is already up-to-date!\n",
      "[nltk_data]    | Downloading package product_reviews_2 to\n",
      "[nltk_data]    |     C:\\Users\\Matt\\AppData\\Roaming\\nltk_data...\n",
      "[nltk_data]    |   Package product_reviews_2 is already up-to-date!\n",
      "[nltk_data]    | Downloading package propbank to\n",
      "[nltk_data]    |     C:\\Users\\Matt\\AppData\\Roaming\\nltk_data...\n",
      "[nltk_data]    |   Package propbank is already up-to-date!\n",
      "[nltk_data]    | Downloading package pros_cons to\n",
      "[nltk_data]    |     C:\\Users\\Matt\\AppData\\Roaming\\nltk_data...\n",
      "[nltk_data]    |   Package pros_cons is already up-to-date!\n",
      "[nltk_data]    | Downloading package ptb to\n",
      "[nltk_data]    |     C:\\Users\\Matt\\AppData\\Roaming\\nltk_data...\n",
      "[nltk_data]    |   Package ptb is already up-to-date!\n",
      "[nltk_data]    | Downloading package punkt to\n",
      "[nltk_data]    |     C:\\Users\\Matt\\AppData\\Roaming\\nltk_data...\n",
      "[nltk_data]    |   Package punkt is already up-to-date!\n",
      "[nltk_data]    | Downloading package qc to\n",
      "[nltk_data]    |     C:\\Users\\Matt\\AppData\\Roaming\\nltk_data...\n",
      "[nltk_data]    |   Package qc is already up-to-date!\n",
      "[nltk_data]    | Downloading package reuters to\n",
      "[nltk_data]    |     C:\\Users\\Matt\\AppData\\Roaming\\nltk_data...\n",
      "[nltk_data]    |   Package reuters is already up-to-date!\n",
      "[nltk_data]    | Downloading package rslp to\n",
      "[nltk_data]    |     C:\\Users\\Matt\\AppData\\Roaming\\nltk_data...\n",
      "[nltk_data]    |   Package rslp is already up-to-date!\n",
      "[nltk_data]    | Downloading package rte to\n",
      "[nltk_data]    |     C:\\Users\\Matt\\AppData\\Roaming\\nltk_data...\n",
      "[nltk_data]    |   Package rte is already up-to-date!\n",
      "[nltk_data]    | Downloading package sample_grammars to\n",
      "[nltk_data]    |     C:\\Users\\Matt\\AppData\\Roaming\\nltk_data...\n",
      "[nltk_data]    |   Package sample_grammars is already up-to-date!\n",
      "[nltk_data]    | Downloading package semcor to\n",
      "[nltk_data]    |     C:\\Users\\Matt\\AppData\\Roaming\\nltk_data...\n",
      "[nltk_data]    |   Package semcor is already up-to-date!\n",
      "[nltk_data]    | Downloading package senseval to\n",
      "[nltk_data]    |     C:\\Users\\Matt\\AppData\\Roaming\\nltk_data...\n",
      "[nltk_data]    |   Package senseval is already up-to-date!\n",
      "[nltk_data]    | Downloading package sentence_polarity to\n",
      "[nltk_data]    |     C:\\Users\\Matt\\AppData\\Roaming\\nltk_data...\n",
      "[nltk_data]    |   Package sentence_polarity is already up-to-date!\n",
      "[nltk_data]    | Downloading package sentiwordnet to\n",
      "[nltk_data]    |     C:\\Users\\Matt\\AppData\\Roaming\\nltk_data...\n",
      "[nltk_data]    |   Package sentiwordnet is already up-to-date!\n",
      "[nltk_data]    | Downloading package shakespeare to\n",
      "[nltk_data]    |     C:\\Users\\Matt\\AppData\\Roaming\\nltk_data...\n",
      "[nltk_data]    |   Package shakespeare is already up-to-date!\n",
      "[nltk_data]    | Downloading package sinica_treebank to\n",
      "[nltk_data]    |     C:\\Users\\Matt\\AppData\\Roaming\\nltk_data...\n",
      "[nltk_data]    |   Package sinica_treebank is already up-to-date!\n",
      "[nltk_data]    | Downloading package smultron to\n",
      "[nltk_data]    |     C:\\Users\\Matt\\AppData\\Roaming\\nltk_data...\n",
      "[nltk_data]    |   Package smultron is already up-to-date!\n",
      "[nltk_data]    | Downloading package snowball_data to\n",
      "[nltk_data]    |     C:\\Users\\Matt\\AppData\\Roaming\\nltk_data...\n",
      "[nltk_data]    |   Package snowball_data is already up-to-date!\n",
      "[nltk_data]    | Downloading package spanish_grammars to\n",
      "[nltk_data]    |     C:\\Users\\Matt\\AppData\\Roaming\\nltk_data...\n",
      "[nltk_data]    |   Package spanish_grammars is already up-to-date!\n",
      "[nltk_data]    | Downloading package state_union to\n",
      "[nltk_data]    |     C:\\Users\\Matt\\AppData\\Roaming\\nltk_data...\n",
      "[nltk_data]    |   Package state_union is already up-to-date!\n",
      "[nltk_data]    | Downloading package stopwords to\n",
      "[nltk_data]    |     C:\\Users\\Matt\\AppData\\Roaming\\nltk_data...\n",
      "[nltk_data]    |   Package stopwords is already up-to-date!\n",
      "[nltk_data]    | Downloading package subjectivity to\n",
      "[nltk_data]    |     C:\\Users\\Matt\\AppData\\Roaming\\nltk_data...\n",
      "[nltk_data]    |   Package subjectivity is already up-to-date!\n",
      "[nltk_data]    | Downloading package swadesh to\n",
      "[nltk_data]    |     C:\\Users\\Matt\\AppData\\Roaming\\nltk_data...\n",
      "[nltk_data]    |   Package swadesh is already up-to-date!\n",
      "[nltk_data]    | Downloading package switchboard to\n",
      "[nltk_data]    |     C:\\Users\\Matt\\AppData\\Roaming\\nltk_data...\n",
      "[nltk_data]    |   Package switchboard is already up-to-date!\n",
      "[nltk_data]    | Downloading package tagsets to\n",
      "[nltk_data]    |     C:\\Users\\Matt\\AppData\\Roaming\\nltk_data...\n",
      "[nltk_data]    |   Package tagsets is already up-to-date!\n",
      "[nltk_data]    | Downloading package timit to\n",
      "[nltk_data]    |     C:\\Users\\Matt\\AppData\\Roaming\\nltk_data...\n",
      "[nltk_data]    |   Package timit is already up-to-date!\n",
      "[nltk_data]    | Downloading package toolbox to\n",
      "[nltk_data]    |     C:\\Users\\Matt\\AppData\\Roaming\\nltk_data...\n",
      "[nltk_data]    |   Package toolbox is already up-to-date!\n",
      "[nltk_data]    | Downloading package treebank to\n",
      "[nltk_data]    |     C:\\Users\\Matt\\AppData\\Roaming\\nltk_data...\n",
      "[nltk_data]    |   Package treebank is already up-to-date!\n",
      "[nltk_data]    | Downloading package twitter_samples to\n",
      "[nltk_data]    |     C:\\Users\\Matt\\AppData\\Roaming\\nltk_data...\n",
      "[nltk_data]    |   Package twitter_samples is already up-to-date!\n",
      "[nltk_data]    | Downloading package udhr to\n",
      "[nltk_data]    |     C:\\Users\\Matt\\AppData\\Roaming\\nltk_data...\n",
      "[nltk_data]    |   Package udhr is already up-to-date!\n",
      "[nltk_data]    | Downloading package udhr2 to\n",
      "[nltk_data]    |     C:\\Users\\Matt\\AppData\\Roaming\\nltk_data...\n",
      "[nltk_data]    |   Package udhr2 is already up-to-date!\n",
      "[nltk_data]    | Downloading package unicode_samples to\n",
      "[nltk_data]    |     C:\\Users\\Matt\\AppData\\Roaming\\nltk_data...\n",
      "[nltk_data]    |   Package unicode_samples is already up-to-date!\n",
      "[nltk_data]    | Downloading package universal_tagset to\n",
      "[nltk_data]    |     C:\\Users\\Matt\\AppData\\Roaming\\nltk_data...\n",
      "[nltk_data]    |   Package universal_tagset is already up-to-date!\n",
      "[nltk_data]    | Downloading package universal_treebanks_v20 to\n",
      "[nltk_data]    |     C:\\Users\\Matt\\AppData\\Roaming\\nltk_data...\n",
      "[nltk_data]    |   Package universal_treebanks_v20 is already up-to-\n",
      "[nltk_data]    |       date!\n",
      "[nltk_data]    | Downloading package vader_lexicon to\n",
      "[nltk_data]    |     C:\\Users\\Matt\\AppData\\Roaming\\nltk_data...\n",
      "[nltk_data]    |   Package vader_lexicon is already up-to-date!\n",
      "[nltk_data]    | Downloading package verbnet to\n",
      "[nltk_data]    |     C:\\Users\\Matt\\AppData\\Roaming\\nltk_data...\n",
      "[nltk_data]    |   Package verbnet is already up-to-date!\n",
      "[nltk_data]    | Downloading package verbnet3 to\n",
      "[nltk_data]    |     C:\\Users\\Matt\\AppData\\Roaming\\nltk_data...\n",
      "[nltk_data]    |   Package verbnet3 is already up-to-date!\n",
      "[nltk_data]    | Downloading package webtext to\n",
      "[nltk_data]    |     C:\\Users\\Matt\\AppData\\Roaming\\nltk_data...\n",
      "[nltk_data]    |   Package webtext is already up-to-date!\n",
      "[nltk_data]    | Downloading package wmt15_eval to\n",
      "[nltk_data]    |     C:\\Users\\Matt\\AppData\\Roaming\\nltk_data...\n",
      "[nltk_data]    |   Package wmt15_eval is already up-to-date!\n",
      "[nltk_data]    | Downloading package word2vec_sample to\n",
      "[nltk_data]    |     C:\\Users\\Matt\\AppData\\Roaming\\nltk_data...\n",
      "[nltk_data]    |   Package word2vec_sample is already up-to-date!\n",
      "[nltk_data]    | Downloading package wordnet to\n",
      "[nltk_data]    |     C:\\Users\\Matt\\AppData\\Roaming\\nltk_data...\n",
      "[nltk_data]    |   Package wordnet is already up-to-date!\n",
      "[nltk_data]    | Downloading package wordnet2021 to\n",
      "[nltk_data]    |     C:\\Users\\Matt\\AppData\\Roaming\\nltk_data...\n",
      "[nltk_data]    |   Package wordnet2021 is already up-to-date!\n",
      "[nltk_data]    | Downloading package wordnet2022 to\n",
      "[nltk_data]    |     C:\\Users\\Matt\\AppData\\Roaming\\nltk_data...\n",
      "[nltk_data]    |   Package wordnet2022 is already up-to-date!\n",
      "[nltk_data]    | Downloading package wordnet31 to\n",
      "[nltk_data]    |     C:\\Users\\Matt\\AppData\\Roaming\\nltk_data...\n",
      "[nltk_data]    |   Package wordnet31 is already up-to-date!\n",
      "[nltk_data]    | Downloading package wordnet_ic to\n",
      "[nltk_data]    |     C:\\Users\\Matt\\AppData\\Roaming\\nltk_data...\n",
      "[nltk_data]    |   Package wordnet_ic is already up-to-date!\n",
      "[nltk_data]    | Downloading package words to\n",
      "[nltk_data]    |     C:\\Users\\Matt\\AppData\\Roaming\\nltk_data...\n",
      "[nltk_data]    |   Package words is already up-to-date!\n",
      "[nltk_data]    | Downloading package ycoe to\n",
      "[nltk_data]    |     C:\\Users\\Matt\\AppData\\Roaming\\nltk_data...\n",
      "[nltk_data]    |   Package ycoe is already up-to-date!\n",
      "[nltk_data]    | \n",
      "[nltk_data]  Done downloading collection all\n"
     ]
    }
   ],
   "source": [
    "import pandas as pd\n",
    "import numpy as np\n",
    "import matplotlib.pyplot as plt\n",
    "import seaborn as sns\n",
    "import json\n",
    "\n",
    "# Import statsmodels for regression\n",
    "import statsmodels.api as sm\n",
    "from statsmodels.formula.api import ols\n",
    "\n",
    "\n",
    "# Import scikit-learn tools for preprocessing and models\n",
    "from sklearn.model_selection import (\n",
    "    train_test_split,\n",
    "    GridSearchCV,\n",
    "    cross_val_score,\n",
    ")\n",
    "from sklearn.ensemble import RandomForestRegressor, VotingRegressor\n",
    "from sklearn.metrics import mean_squared_error\n",
    "from sklearn.preprocessing import (\n",
    "    OneHotEncoder,\n",
    "    StandardScaler,\n",
    "    MultiLabelBinarizer,\n",
    ")\n",
    "from sklearn.compose import ColumnTransformer\n",
    "from sklearn.pipeline import Pipeline\n",
    "from sklearn.linear_model import LinearRegression, Ridge, Lasso\n",
    "from sklearn.svm import SVR\n",
    "\n",
    "# Import NLTK tools for sentiment analysis\n",
    "import nltk\n",
    "from nltk.corpus import stopwords\n",
    "from nltk.tokenize import word_tokenize\n",
    "from nltk.stem import WordNetLemmatizer\n",
    "from nltk.sentiment.vader import SentimentIntensityAnalyzer\n",
    "\n",
    "nltk.download(\"all\")\n",
    "\n",
    "import warnings\n",
    "\n",
    "warnings.filterwarnings(\"ignore\")"
   ]
  },
  {
   "cell_type": "markdown",
   "metadata": {},
   "source": [
    "## Set up formatting for visuals"
   ]
  },
  {
   "cell_type": "code",
   "execution_count": 101,
   "metadata": {},
   "outputs": [],
   "source": [
    "sns.set_style(\"darkgrid\")\n",
    "sns.set_palette(\"Set2\")"
   ]
  },
  {
   "cell_type": "markdown",
   "metadata": {},
   "source": [
    "## Import Data"
   ]
  },
  {
   "cell_type": "code",
   "execution_count": 102,
   "metadata": {},
   "outputs": [],
   "source": [
    "reviews_df = pd.read_csv(\"data/steam_review_data1.csv.gz\", compression=\"gzip\")"
   ]
  },
  {
   "cell_type": "code",
   "execution_count": 103,
   "metadata": {},
   "outputs": [
    {
     "data": {
      "text/plain": [
       "(1336828, 18)"
      ]
     },
     "execution_count": 103,
     "metadata": {},
     "output_type": "execute_result"
    }
   ],
   "source": [
    "reviews_df.shape"
   ]
  },
  {
   "cell_type": "code",
   "execution_count": 104,
   "metadata": {},
   "outputs": [],
   "source": [
    "sent_df = pd.read_csv(\"data/steam_review_sentiment.csv.gz\", compression=\"gzip\")"
   ]
  },
  {
   "cell_type": "code",
   "execution_count": 105,
   "metadata": {},
   "outputs": [],
   "source": [
    "games_df = pd.read_csv(\"data/steamspy_data.csv\")"
   ]
  },
  {
   "cell_type": "code",
   "execution_count": 106,
   "metadata": {},
   "outputs": [
    {
     "data": {
      "text/plain": [
       "['casual']"
      ]
     },
     "execution_count": 106,
     "metadata": {},
     "output_type": "execute_result"
    }
   ],
   "source": [
    "test = \"casual\"\n",
    "test.split(\", \")"
   ]
  },
  {
   "cell_type": "code",
   "execution_count": 107,
   "metadata": {},
   "outputs": [
    {
     "data": {
      "text/plain": [
       "33420           Action, Casual, Sports, Early Access\n",
       "21244                             Action, Indie, RPG\n",
       "13552                               Adventure, Indie\n",
       "4819                        Action, Adventure, Indie\n",
       "41793               Action, Adventure, Casual, Indie\n",
       "48335                          Casual, Indie, Racing\n",
       "21438                                  Action, Indie\n",
       "9316                               Adventure, Casual\n",
       "35968                          Action, Casual, Indie\n",
       "33626    Action, Casual, Indie, Simulation, Strategy\n",
       "42768                              Adventure, Casual\n",
       "38091                       Action, Adventure, Indie\n",
       "59374                       Adventure, Casual, Indie\n",
       "15477           Adventure, Casual, Indie, Simulation\n",
       "52387                        Casual, Indie, Strategy\n",
       "1800                                   RPG, Strategy\n",
       "14229                              Adventure, Casual\n",
       "5319                        Action, Adventure, Indie\n",
       "41339                                  Action, Indie\n",
       "34605                    Indie, Simulation, Strategy\n",
       "Name: genre, dtype: object"
      ]
     },
     "execution_count": 107,
     "metadata": {},
     "output_type": "execute_result"
    }
   ],
   "source": [
    "games_df.genre.sample(20)"
   ]
  },
  {
   "cell_type": "code",
   "execution_count": 108,
   "metadata": {},
   "outputs": [
    {
     "data": {
      "text/plain": [
       "(63968, 20)"
      ]
     },
     "execution_count": 108,
     "metadata": {},
     "output_type": "execute_result"
    }
   ],
   "source": [
    "games_df.shape"
   ]
  },
  {
   "cell_type": "code",
   "execution_count": 109,
   "metadata": {},
   "outputs": [
    {
     "data": {
      "text/html": [
       "<div>\n",
       "<style scoped>\n",
       "    .dataframe tbody tr th:only-of-type {\n",
       "        vertical-align: middle;\n",
       "    }\n",
       "\n",
       "    .dataframe tbody tr th {\n",
       "        vertical-align: top;\n",
       "    }\n",
       "\n",
       "    .dataframe thead th {\n",
       "        text-align: right;\n",
       "    }\n",
       "</style>\n",
       "<table border=\"1\" class=\"dataframe\">\n",
       "  <thead>\n",
       "    <tr style=\"text-align: right;\">\n",
       "      <th></th>\n",
       "      <th>appid</th>\n",
       "      <th>name</th>\n",
       "      <th>developer</th>\n",
       "      <th>publisher</th>\n",
       "      <th>score_rank</th>\n",
       "      <th>positive</th>\n",
       "      <th>negative</th>\n",
       "      <th>userscore</th>\n",
       "      <th>owners</th>\n",
       "      <th>average_forever</th>\n",
       "      <th>average_2weeks</th>\n",
       "      <th>median_forever</th>\n",
       "      <th>median_2weeks</th>\n",
       "      <th>price</th>\n",
       "      <th>initialprice</th>\n",
       "      <th>discount</th>\n",
       "      <th>languages</th>\n",
       "      <th>genre</th>\n",
       "      <th>ccu</th>\n",
       "      <th>tags</th>\n",
       "    </tr>\n",
       "  </thead>\n",
       "  <tbody>\n",
       "    <tr>\n",
       "      <th>0</th>\n",
       "      <td>10</td>\n",
       "      <td>Counter-Strike</td>\n",
       "      <td>Valve</td>\n",
       "      <td>Valve</td>\n",
       "      <td>NaN</td>\n",
       "      <td>193046</td>\n",
       "      <td>4940</td>\n",
       "      <td>0</td>\n",
       "      <td>10,000,000 .. 20,000,000</td>\n",
       "      <td>8486</td>\n",
       "      <td>178</td>\n",
       "      <td>196</td>\n",
       "      <td>128</td>\n",
       "      <td>999.0</td>\n",
       "      <td>999.0</td>\n",
       "      <td>0.0</td>\n",
       "      <td>English, French, German, Italian, Spanish - Sp...</td>\n",
       "      <td>Action</td>\n",
       "      <td>16360</td>\n",
       "      <td>{'Action': 5379, 'FPS': 4801, 'Multiplayer': 3...</td>\n",
       "    </tr>\n",
       "    <tr>\n",
       "      <th>1</th>\n",
       "      <td>20</td>\n",
       "      <td>Team Fortress Classic</td>\n",
       "      <td>Valve</td>\n",
       "      <td>Valve</td>\n",
       "      <td>NaN</td>\n",
       "      <td>5412</td>\n",
       "      <td>895</td>\n",
       "      <td>0</td>\n",
       "      <td>5,000,000 .. 10,000,000</td>\n",
       "      <td>551</td>\n",
       "      <td>58</td>\n",
       "      <td>14</td>\n",
       "      <td>58</td>\n",
       "      <td>499.0</td>\n",
       "      <td>499.0</td>\n",
       "      <td>0.0</td>\n",
       "      <td>English, French, German, Italian, Spanish - Sp...</td>\n",
       "      <td>Action</td>\n",
       "      <td>87</td>\n",
       "      <td>{'Action': 745, 'FPS': 306, 'Multiplayer': 257...</td>\n",
       "    </tr>\n",
       "    <tr>\n",
       "      <th>2</th>\n",
       "      <td>30</td>\n",
       "      <td>Day of Defeat</td>\n",
       "      <td>Valve</td>\n",
       "      <td>Valve</td>\n",
       "      <td>NaN</td>\n",
       "      <td>5003</td>\n",
       "      <td>556</td>\n",
       "      <td>0</td>\n",
       "      <td>5,000,000 .. 10,000,000</td>\n",
       "      <td>421</td>\n",
       "      <td>73</td>\n",
       "      <td>23</td>\n",
       "      <td>73</td>\n",
       "      <td>499.0</td>\n",
       "      <td>499.0</td>\n",
       "      <td>0.0</td>\n",
       "      <td>English, French, German, Italian, Spanish - Spain</td>\n",
       "      <td>Action</td>\n",
       "      <td>122</td>\n",
       "      <td>{'FPS': 787, 'World War II': 248, 'Multiplayer...</td>\n",
       "    </tr>\n",
       "    <tr>\n",
       "      <th>3</th>\n",
       "      <td>40</td>\n",
       "      <td>Deathmatch Classic</td>\n",
       "      <td>Valve</td>\n",
       "      <td>Valve</td>\n",
       "      <td>NaN</td>\n",
       "      <td>1852</td>\n",
       "      <td>412</td>\n",
       "      <td>0</td>\n",
       "      <td>5,000,000 .. 10,000,000</td>\n",
       "      <td>318</td>\n",
       "      <td>0</td>\n",
       "      <td>7</td>\n",
       "      <td>0</td>\n",
       "      <td>499.0</td>\n",
       "      <td>499.0</td>\n",
       "      <td>0.0</td>\n",
       "      <td>English, French, German, Italian, Spanish - Sp...</td>\n",
       "      <td>Action</td>\n",
       "      <td>7</td>\n",
       "      <td>{'Action': 629, 'FPS': 139, 'Classic': 107, 'M...</td>\n",
       "    </tr>\n",
       "    <tr>\n",
       "      <th>4</th>\n",
       "      <td>50</td>\n",
       "      <td>Half-Life: Opposing Force</td>\n",
       "      <td>Gearbox Software</td>\n",
       "      <td>Valve</td>\n",
       "      <td>NaN</td>\n",
       "      <td>13262</td>\n",
       "      <td>662</td>\n",
       "      <td>0</td>\n",
       "      <td>5,000,000 .. 10,000,000</td>\n",
       "      <td>676</td>\n",
       "      <td>0</td>\n",
       "      <td>150</td>\n",
       "      <td>0</td>\n",
       "      <td>499.0</td>\n",
       "      <td>499.0</td>\n",
       "      <td>0.0</td>\n",
       "      <td>English, French, German, Korean</td>\n",
       "      <td>Action</td>\n",
       "      <td>122</td>\n",
       "      <td>{'FPS': 881, 'Action': 322, 'Classic': 251, 'S...</td>\n",
       "    </tr>\n",
       "  </tbody>\n",
       "</table>\n",
       "</div>"
      ],
      "text/plain": [
       "   appid                       name         developer publisher  score_rank  \\\n",
       "0     10             Counter-Strike             Valve     Valve         NaN   \n",
       "1     20      Team Fortress Classic             Valve     Valve         NaN   \n",
       "2     30              Day of Defeat             Valve     Valve         NaN   \n",
       "3     40         Deathmatch Classic             Valve     Valve         NaN   \n",
       "4     50  Half-Life: Opposing Force  Gearbox Software     Valve         NaN   \n",
       "\n",
       "   positive  negative  userscore                    owners  average_forever  \\\n",
       "0    193046      4940          0  10,000,000 .. 20,000,000             8486   \n",
       "1      5412       895          0   5,000,000 .. 10,000,000              551   \n",
       "2      5003       556          0   5,000,000 .. 10,000,000              421   \n",
       "3      1852       412          0   5,000,000 .. 10,000,000              318   \n",
       "4     13262       662          0   5,000,000 .. 10,000,000              676   \n",
       "\n",
       "   average_2weeks  median_forever  median_2weeks  price  initialprice  \\\n",
       "0             178             196            128  999.0         999.0   \n",
       "1              58              14             58  499.0         499.0   \n",
       "2              73              23             73  499.0         499.0   \n",
       "3               0               7              0  499.0         499.0   \n",
       "4               0             150              0  499.0         499.0   \n",
       "\n",
       "   discount                                          languages   genre    ccu  \\\n",
       "0       0.0  English, French, German, Italian, Spanish - Sp...  Action  16360   \n",
       "1       0.0  English, French, German, Italian, Spanish - Sp...  Action     87   \n",
       "2       0.0  English, French, German, Italian, Spanish - Spain  Action    122   \n",
       "3       0.0  English, French, German, Italian, Spanish - Sp...  Action      7   \n",
       "4       0.0                    English, French, German, Korean  Action    122   \n",
       "\n",
       "                                                tags  \n",
       "0  {'Action': 5379, 'FPS': 4801, 'Multiplayer': 3...  \n",
       "1  {'Action': 745, 'FPS': 306, 'Multiplayer': 257...  \n",
       "2  {'FPS': 787, 'World War II': 248, 'Multiplayer...  \n",
       "3  {'Action': 629, 'FPS': 139, 'Classic': 107, 'M...  \n",
       "4  {'FPS': 881, 'Action': 322, 'Classic': 251, 'S...  "
      ]
     },
     "execution_count": 109,
     "metadata": {},
     "output_type": "execute_result"
    }
   ],
   "source": [
    "games_df.head()"
   ]
  },
  {
   "cell_type": "markdown",
   "metadata": {},
   "source": [
    "## Sentiment analysis\n",
    "\n",
    "We will run sentiment analysis to access sentiment components for each review. Due to the size of our reviews dataset the sentiment analysis writes to a .csv file. This file will be used for further analysis and the code below has been commented out."
   ]
  },
  {
   "cell_type": "code",
   "execution_count": 110,
   "metadata": {},
   "outputs": [],
   "source": [
    "# def preprocess_text(text):\n",
    "#     # Tokenize the text\n",
    "#     tokens = word_tokenize(text.lower())\n",
    "\n",
    "#     # Remove stop words\n",
    "#     filtered_tokens = [\n",
    "#         token for token in tokens if token not in stopwords.words(\"english\")\n",
    "#     ]\n",
    "\n",
    "#     # Lemmatize the tokens\n",
    "#     lemmatizer = WordNetLemmatizer()\n",
    "#     lemmatized_tokens = [\n",
    "#         lemmatizer.lemmatize(token) for token in filtered_tokens\n",
    "#     ]\n",
    "\n",
    "#     # Join the tokens back into a string\n",
    "#     processed_text = \" \".join(lemmatized_tokens)\n",
    "#     return processed_text"
   ]
  },
  {
   "cell_type": "code",
   "execution_count": 111,
   "metadata": {},
   "outputs": [],
   "source": [
    "# # initialize NLTK sentiment analyzer\n",
    "# analyzer = SentimentIntensityAnalyzer()\n",
    "\n",
    "\n",
    "# # create get_sentiment function\n",
    "# def get_sentiment(text):\n",
    "#     # get sentiment scores for the review text\n",
    "#     scores = analyzer.polarity_scores(text)\n",
    "\n",
    "#     return scores"
   ]
  },
  {
   "cell_type": "markdown",
   "metadata": {},
   "source": [
    "We have created two functions which we will use to extract the sentiment values from each review in our reviews dataframe. The first functinon, preprocess_text, will clean the text of each review by removing punctuation, stop words, and converting all text to lowercase. The second function, sentiment_analysis, will run sentiment analysis on each review and return the sentiment components for each review.\n",
    "\n",
    "The sentiment analysis components will be a dictionary containing positive, negative, neutral, and compound values for each review. The compound value is a normalized value between -1 and 1 which represents the overall sentiment of the review. A compound value of 1 represents a very positive review while a compound value of -1 represents a very negative review."
   ]
  },
  {
   "cell_type": "code",
   "execution_count": 112,
   "metadata": {},
   "outputs": [],
   "source": [
    "# review_df = review_df.dropna()"
   ]
  },
  {
   "cell_type": "code",
   "execution_count": 113,
   "metadata": {},
   "outputs": [],
   "source": [
    "# review_df[\"review_processed\"] = review_df[\"review\"].apply(preprocess_text)\n",
    "# review_df[\"sentiment\"] = review_df[\"review_processed\"].apply(get_sentiment)"
   ]
  },
  {
   "cell_type": "code",
   "execution_count": 114,
   "metadata": {},
   "outputs": [],
   "source": [
    "# reduced_df = review_df[[\"appid\", \"sentiment\"]]\n",
    "# reduced_df.to_csv(\n",
    "#     \"data/steam_review_sentiment.csv.gz\", index=False, compression=\"gzip\"\n",
    "# )"
   ]
  },
  {
   "cell_type": "markdown",
   "metadata": {},
   "source": [
    "Due to the size of our dataset and the caliber of computing required, the results were written to csv and used for the remainder of the analysis."
   ]
  },
  {
   "cell_type": "markdown",
   "metadata": {},
   "source": [
    "### Reformatting\n",
    "Our sentiment dataframe has a dictionary of sentiment scores for each review. The issue is that it is imported as a string, so we need to convert it to a dictionary."
   ]
  },
  {
   "cell_type": "code",
   "execution_count": 115,
   "metadata": {},
   "outputs": [
    {
     "data": {
      "text/plain": [
       "0          {'neg': 0.0, 'neu': 0.312, 'pos': 0.688, 'comp...\n",
       "1          {'neg': 0.051, 'neu': 0.718, 'pos': 0.231, 'co...\n",
       "2          {'neg': 0.0, 'neu': 1.0, 'pos': 0.0, 'compound...\n",
       "3          {'neg': 0.756, 'neu': 0.244, 'pos': 0.0, 'comp...\n",
       "4          {'neg': 0.015, 'neu': 0.607, 'pos': 0.378, 'co...\n",
       "                                 ...                        \n",
       "1336150    {'neg': 0.0, 'neu': 0.268, 'pos': 0.732, 'comp...\n",
       "1336151    {'neg': 0.0, 'neu': 0.0, 'pos': 1.0, 'compound...\n",
       "1336152    {'neg': 0.0, 'neu': 1.0, 'pos': 0.0, 'compound...\n",
       "1336153    {'neg': 0.0, 'neu': 1.0, 'pos': 0.0, 'compound...\n",
       "1336154    {'neg': 0.119, 'neu': 0.361, 'pos': 0.521, 'co...\n",
       "Name: sentiment, Length: 1336155, dtype: object"
      ]
     },
     "execution_count": 115,
     "metadata": {},
     "output_type": "execute_result"
    }
   ],
   "source": [
    "sent_df[\"sentiment\"]"
   ]
  },
  {
   "cell_type": "markdown",
   "metadata": {},
   "source": [
    "We will run a functions which swaps single quotes for double quotes, and then converts the string to a dictionary using json.loads."
   ]
  },
  {
   "cell_type": "code",
   "execution_count": 116,
   "metadata": {},
   "outputs": [],
   "source": [
    "def string_to_dict(dict_string):\n",
    "    # Convert to proper json format\n",
    "    dict_string = dict_string.replace(\"'\", '\"')\n",
    "    return json.loads(dict_string)"
   ]
  },
  {
   "cell_type": "code",
   "execution_count": 117,
   "metadata": {},
   "outputs": [],
   "source": [
    "sent_df[\"sentiment\"] = sent_df[\"sentiment\"].apply(string_to_dict)"
   ]
  },
  {
   "cell_type": "code",
   "execution_count": 118,
   "metadata": {},
   "outputs": [],
   "source": [
    "# Use json normalize to write the dict to a dataframe\n",
    "expanded = pd.json_normalize(sent_df[\"sentiment\"])"
   ]
  },
  {
   "cell_type": "code",
   "execution_count": 119,
   "metadata": {},
   "outputs": [],
   "source": [
    "# Concat the sentiment back onto the sentiment df with appids\n",
    "sent_df = pd.concat([sent_df, expanded], axis=1)"
   ]
  },
  {
   "cell_type": "code",
   "execution_count": 120,
   "metadata": {},
   "outputs": [
    {
     "data": {
      "text/html": [
       "<div>\n",
       "<style scoped>\n",
       "    .dataframe tbody tr th:only-of-type {\n",
       "        vertical-align: middle;\n",
       "    }\n",
       "\n",
       "    .dataframe tbody tr th {\n",
       "        vertical-align: top;\n",
       "    }\n",
       "\n",
       "    .dataframe thead th {\n",
       "        text-align: right;\n",
       "    }\n",
       "</style>\n",
       "<table border=\"1\" class=\"dataframe\">\n",
       "  <thead>\n",
       "    <tr style=\"text-align: right;\">\n",
       "      <th></th>\n",
       "      <th>appid</th>\n",
       "      <th>neg</th>\n",
       "      <th>neu</th>\n",
       "      <th>pos</th>\n",
       "      <th>compound</th>\n",
       "    </tr>\n",
       "  </thead>\n",
       "  <tbody>\n",
       "    <tr>\n",
       "      <th>0</th>\n",
       "      <td>10</td>\n",
       "      <td>0.000</td>\n",
       "      <td>0.312</td>\n",
       "      <td>0.688</td>\n",
       "      <td>0.7650</td>\n",
       "    </tr>\n",
       "    <tr>\n",
       "      <th>1</th>\n",
       "      <td>10</td>\n",
       "      <td>0.051</td>\n",
       "      <td>0.718</td>\n",
       "      <td>0.231</td>\n",
       "      <td>0.8519</td>\n",
       "    </tr>\n",
       "    <tr>\n",
       "      <th>2</th>\n",
       "      <td>10</td>\n",
       "      <td>0.000</td>\n",
       "      <td>1.000</td>\n",
       "      <td>0.000</td>\n",
       "      <td>0.0000</td>\n",
       "    </tr>\n",
       "    <tr>\n",
       "      <th>3</th>\n",
       "      <td>10</td>\n",
       "      <td>0.756</td>\n",
       "      <td>0.244</td>\n",
       "      <td>0.000</td>\n",
       "      <td>-0.4767</td>\n",
       "    </tr>\n",
       "    <tr>\n",
       "      <th>4</th>\n",
       "      <td>10</td>\n",
       "      <td>0.015</td>\n",
       "      <td>0.607</td>\n",
       "      <td>0.378</td>\n",
       "      <td>0.9769</td>\n",
       "    </tr>\n",
       "  </tbody>\n",
       "</table>\n",
       "</div>"
      ],
      "text/plain": [
       "   appid    neg    neu    pos  compound\n",
       "0     10  0.000  0.312  0.688    0.7650\n",
       "1     10  0.051  0.718  0.231    0.8519\n",
       "2     10  0.000  1.000  0.000    0.0000\n",
       "3     10  0.756  0.244  0.000   -0.4767\n",
       "4     10  0.015  0.607  0.378    0.9769"
      ]
     },
     "execution_count": 120,
     "metadata": {},
     "output_type": "execute_result"
    }
   ],
   "source": [
    "# Drop the original sentiment column\n",
    "sent_df = sent_df.drop(columns=[\"sentiment\"])\n",
    "sent_df.head()"
   ]
  },
  {
   "cell_type": "code",
   "execution_count": 121,
   "metadata": {},
   "outputs": [
    {
     "data": {
      "text/html": [
       "<div>\n",
       "<style scoped>\n",
       "    .dataframe tbody tr th:only-of-type {\n",
       "        vertical-align: middle;\n",
       "    }\n",
       "\n",
       "    .dataframe tbody tr th {\n",
       "        vertical-align: top;\n",
       "    }\n",
       "\n",
       "    .dataframe thead th {\n",
       "        text-align: right;\n",
       "    }\n",
       "</style>\n",
       "<table border=\"1\" class=\"dataframe\">\n",
       "  <thead>\n",
       "    <tr style=\"text-align: right;\">\n",
       "      <th></th>\n",
       "      <th>appid</th>\n",
       "      <th>neg</th>\n",
       "      <th>neu</th>\n",
       "      <th>pos</th>\n",
       "      <th>compound</th>\n",
       "    </tr>\n",
       "  </thead>\n",
       "  <tbody>\n",
       "    <tr>\n",
       "      <th>0</th>\n",
       "      <td>10</td>\n",
       "      <td>0.10401</td>\n",
       "      <td>0.63499</td>\n",
       "      <td>0.26102</td>\n",
       "      <td>0.314473</td>\n",
       "    </tr>\n",
       "    <tr>\n",
       "      <th>1</th>\n",
       "      <td>20</td>\n",
       "      <td>0.08666</td>\n",
       "      <td>0.64698</td>\n",
       "      <td>0.23637</td>\n",
       "      <td>0.194547</td>\n",
       "    </tr>\n",
       "    <tr>\n",
       "      <th>2</th>\n",
       "      <td>30</td>\n",
       "      <td>0.12435</td>\n",
       "      <td>0.59344</td>\n",
       "      <td>0.25220</td>\n",
       "      <td>0.292516</td>\n",
       "    </tr>\n",
       "    <tr>\n",
       "      <th>3</th>\n",
       "      <td>40</td>\n",
       "      <td>0.12416</td>\n",
       "      <td>0.56693</td>\n",
       "      <td>0.28885</td>\n",
       "      <td>0.367227</td>\n",
       "    </tr>\n",
       "    <tr>\n",
       "      <th>4</th>\n",
       "      <td>50</td>\n",
       "      <td>0.07766</td>\n",
       "      <td>0.66268</td>\n",
       "      <td>0.23963</td>\n",
       "      <td>0.377009</td>\n",
       "    </tr>\n",
       "  </tbody>\n",
       "</table>\n",
       "</div>"
      ],
      "text/plain": [
       "   appid      neg      neu      pos  compound\n",
       "0     10  0.10401  0.63499  0.26102  0.314473\n",
       "1     20  0.08666  0.64698  0.23637  0.194547\n",
       "2     30  0.12435  0.59344  0.25220  0.292516\n",
       "3     40  0.12416  0.56693  0.28885  0.367227\n",
       "4     50  0.07766  0.66268  0.23963  0.377009"
      ]
     },
     "execution_count": 121,
     "metadata": {},
     "output_type": "execute_result"
    }
   ],
   "source": [
    "# Group by average per game\n",
    "sent_df = sent_df.groupby(\"appid\").mean().reset_index()\n",
    "sent_df.head()"
   ]
  },
  {
   "cell_type": "code",
   "execution_count": 122,
   "metadata": {},
   "outputs": [],
   "source": [
    "sent_df = sent_df.rename(\n",
    "    {\n",
    "        \"compound\": \"compound_sent\",\n",
    "        \"neg\": \"neg_sent\",\n",
    "        \"neu\": \"neu_sent\",\n",
    "        \"pos\": \"pos_sent\",\n",
    "    },\n",
    "    axis=1,\n",
    ")"
   ]
  },
  {
   "cell_type": "markdown",
   "metadata": {},
   "source": [
    "Now that we have renamed the columns we can merge is back into our game dataframe"
   ]
  },
  {
   "cell_type": "code",
   "execution_count": 123,
   "metadata": {},
   "outputs": [],
   "source": [
    "games_df = pd.merge(games_df, sent_df, on=\"appid\")"
   ]
  },
  {
   "cell_type": "code",
   "execution_count": 124,
   "metadata": {},
   "outputs": [
    {
     "data": {
      "text/html": [
       "<div>\n",
       "<style scoped>\n",
       "    .dataframe tbody tr th:only-of-type {\n",
       "        vertical-align: middle;\n",
       "    }\n",
       "\n",
       "    .dataframe tbody tr th {\n",
       "        vertical-align: top;\n",
       "    }\n",
       "\n",
       "    .dataframe thead th {\n",
       "        text-align: right;\n",
       "    }\n",
       "</style>\n",
       "<table border=\"1\" class=\"dataframe\">\n",
       "  <thead>\n",
       "    <tr style=\"text-align: right;\">\n",
       "      <th></th>\n",
       "      <th>appid</th>\n",
       "      <th>name</th>\n",
       "      <th>developer</th>\n",
       "      <th>publisher</th>\n",
       "      <th>score_rank</th>\n",
       "      <th>positive</th>\n",
       "      <th>negative</th>\n",
       "      <th>userscore</th>\n",
       "      <th>owners</th>\n",
       "      <th>average_forever</th>\n",
       "      <th>...</th>\n",
       "      <th>initialprice</th>\n",
       "      <th>discount</th>\n",
       "      <th>languages</th>\n",
       "      <th>genre</th>\n",
       "      <th>ccu</th>\n",
       "      <th>tags</th>\n",
       "      <th>neg_sent</th>\n",
       "      <th>neu_sent</th>\n",
       "      <th>pos_sent</th>\n",
       "      <th>compound_sent</th>\n",
       "    </tr>\n",
       "  </thead>\n",
       "  <tbody>\n",
       "    <tr>\n",
       "      <th>0</th>\n",
       "      <td>10</td>\n",
       "      <td>Counter-Strike</td>\n",
       "      <td>Valve</td>\n",
       "      <td>Valve</td>\n",
       "      <td>NaN</td>\n",
       "      <td>193046</td>\n",
       "      <td>4940</td>\n",
       "      <td>0</td>\n",
       "      <td>10,000,000 .. 20,000,000</td>\n",
       "      <td>8486</td>\n",
       "      <td>...</td>\n",
       "      <td>999.0</td>\n",
       "      <td>0.0</td>\n",
       "      <td>English, French, German, Italian, Spanish - Sp...</td>\n",
       "      <td>Action</td>\n",
       "      <td>16360</td>\n",
       "      <td>{'Action': 5379, 'FPS': 4801, 'Multiplayer': 3...</td>\n",
       "      <td>0.10401</td>\n",
       "      <td>0.63499</td>\n",
       "      <td>0.26102</td>\n",
       "      <td>0.314473</td>\n",
       "    </tr>\n",
       "    <tr>\n",
       "      <th>1</th>\n",
       "      <td>20</td>\n",
       "      <td>Team Fortress Classic</td>\n",
       "      <td>Valve</td>\n",
       "      <td>Valve</td>\n",
       "      <td>NaN</td>\n",
       "      <td>5412</td>\n",
       "      <td>895</td>\n",
       "      <td>0</td>\n",
       "      <td>5,000,000 .. 10,000,000</td>\n",
       "      <td>551</td>\n",
       "      <td>...</td>\n",
       "      <td>499.0</td>\n",
       "      <td>0.0</td>\n",
       "      <td>English, French, German, Italian, Spanish - Sp...</td>\n",
       "      <td>Action</td>\n",
       "      <td>87</td>\n",
       "      <td>{'Action': 745, 'FPS': 306, 'Multiplayer': 257...</td>\n",
       "      <td>0.08666</td>\n",
       "      <td>0.64698</td>\n",
       "      <td>0.23637</td>\n",
       "      <td>0.194547</td>\n",
       "    </tr>\n",
       "    <tr>\n",
       "      <th>2</th>\n",
       "      <td>30</td>\n",
       "      <td>Day of Defeat</td>\n",
       "      <td>Valve</td>\n",
       "      <td>Valve</td>\n",
       "      <td>NaN</td>\n",
       "      <td>5003</td>\n",
       "      <td>556</td>\n",
       "      <td>0</td>\n",
       "      <td>5,000,000 .. 10,000,000</td>\n",
       "      <td>421</td>\n",
       "      <td>...</td>\n",
       "      <td>499.0</td>\n",
       "      <td>0.0</td>\n",
       "      <td>English, French, German, Italian, Spanish - Spain</td>\n",
       "      <td>Action</td>\n",
       "      <td>122</td>\n",
       "      <td>{'FPS': 787, 'World War II': 248, 'Multiplayer...</td>\n",
       "      <td>0.12435</td>\n",
       "      <td>0.59344</td>\n",
       "      <td>0.25220</td>\n",
       "      <td>0.292516</td>\n",
       "    </tr>\n",
       "    <tr>\n",
       "      <th>3</th>\n",
       "      <td>40</td>\n",
       "      <td>Deathmatch Classic</td>\n",
       "      <td>Valve</td>\n",
       "      <td>Valve</td>\n",
       "      <td>NaN</td>\n",
       "      <td>1852</td>\n",
       "      <td>412</td>\n",
       "      <td>0</td>\n",
       "      <td>5,000,000 .. 10,000,000</td>\n",
       "      <td>318</td>\n",
       "      <td>...</td>\n",
       "      <td>499.0</td>\n",
       "      <td>0.0</td>\n",
       "      <td>English, French, German, Italian, Spanish - Sp...</td>\n",
       "      <td>Action</td>\n",
       "      <td>7</td>\n",
       "      <td>{'Action': 629, 'FPS': 139, 'Classic': 107, 'M...</td>\n",
       "      <td>0.12416</td>\n",
       "      <td>0.56693</td>\n",
       "      <td>0.28885</td>\n",
       "      <td>0.367227</td>\n",
       "    </tr>\n",
       "    <tr>\n",
       "      <th>4</th>\n",
       "      <td>50</td>\n",
       "      <td>Half-Life: Opposing Force</td>\n",
       "      <td>Gearbox Software</td>\n",
       "      <td>Valve</td>\n",
       "      <td>NaN</td>\n",
       "      <td>13262</td>\n",
       "      <td>662</td>\n",
       "      <td>0</td>\n",
       "      <td>5,000,000 .. 10,000,000</td>\n",
       "      <td>676</td>\n",
       "      <td>...</td>\n",
       "      <td>499.0</td>\n",
       "      <td>0.0</td>\n",
       "      <td>English, French, German, Korean</td>\n",
       "      <td>Action</td>\n",
       "      <td>122</td>\n",
       "      <td>{'FPS': 881, 'Action': 322, 'Classic': 251, 'S...</td>\n",
       "      <td>0.07766</td>\n",
       "      <td>0.66268</td>\n",
       "      <td>0.23963</td>\n",
       "      <td>0.377009</td>\n",
       "    </tr>\n",
       "  </tbody>\n",
       "</table>\n",
       "<p>5 rows × 24 columns</p>\n",
       "</div>"
      ],
      "text/plain": [
       "   appid                       name         developer publisher  score_rank  \\\n",
       "0     10             Counter-Strike             Valve     Valve         NaN   \n",
       "1     20      Team Fortress Classic             Valve     Valve         NaN   \n",
       "2     30              Day of Defeat             Valve     Valve         NaN   \n",
       "3     40         Deathmatch Classic             Valve     Valve         NaN   \n",
       "4     50  Half-Life: Opposing Force  Gearbox Software     Valve         NaN   \n",
       "\n",
       "   positive  negative  userscore                    owners  average_forever  \\\n",
       "0    193046      4940          0  10,000,000 .. 20,000,000             8486   \n",
       "1      5412       895          0   5,000,000 .. 10,000,000              551   \n",
       "2      5003       556          0   5,000,000 .. 10,000,000              421   \n",
       "3      1852       412          0   5,000,000 .. 10,000,000              318   \n",
       "4     13262       662          0   5,000,000 .. 10,000,000              676   \n",
       "\n",
       "   ...  initialprice  discount  \\\n",
       "0  ...         999.0       0.0   \n",
       "1  ...         499.0       0.0   \n",
       "2  ...         499.0       0.0   \n",
       "3  ...         499.0       0.0   \n",
       "4  ...         499.0       0.0   \n",
       "\n",
       "                                           languages   genre    ccu  \\\n",
       "0  English, French, German, Italian, Spanish - Sp...  Action  16360   \n",
       "1  English, French, German, Italian, Spanish - Sp...  Action     87   \n",
       "2  English, French, German, Italian, Spanish - Spain  Action    122   \n",
       "3  English, French, German, Italian, Spanish - Sp...  Action      7   \n",
       "4                    English, French, German, Korean  Action    122   \n",
       "\n",
       "                                                tags neg_sent neu_sent  \\\n",
       "0  {'Action': 5379, 'FPS': 4801, 'Multiplayer': 3...  0.10401  0.63499   \n",
       "1  {'Action': 745, 'FPS': 306, 'Multiplayer': 257...  0.08666  0.64698   \n",
       "2  {'FPS': 787, 'World War II': 248, 'Multiplayer...  0.12435  0.59344   \n",
       "3  {'Action': 629, 'FPS': 139, 'Classic': 107, 'M...  0.12416  0.56693   \n",
       "4  {'FPS': 881, 'Action': 322, 'Classic': 251, 'S...  0.07766  0.66268   \n",
       "\n",
       "   pos_sent compound_sent  \n",
       "0   0.26102      0.314473  \n",
       "1   0.23637      0.194547  \n",
       "2   0.25220      0.292516  \n",
       "3   0.28885      0.367227  \n",
       "4   0.23963      0.377009  \n",
       "\n",
       "[5 rows x 24 columns]"
      ]
     },
     "execution_count": 124,
     "metadata": {},
     "output_type": "execute_result"
    }
   ],
   "source": [
    "games_df.head()"
   ]
  },
  {
   "cell_type": "markdown",
   "metadata": {},
   "source": []
  },
  {
   "cell_type": "markdown",
   "metadata": {},
   "source": [
    "# Addressing Null Values"
   ]
  },
  {
   "cell_type": "markdown",
   "metadata": {},
   "source": [
    "## Steam Game Data"
   ]
  },
  {
   "cell_type": "code",
   "execution_count": 125,
   "metadata": {},
   "outputs": [
    {
     "data": {
      "text/plain": [
       "positive    0\n",
       "negative    0\n",
       "dtype: int64"
      ]
     },
     "execution_count": 125,
     "metadata": {},
     "output_type": "execute_result"
    }
   ],
   "source": [
    "games_df[[\"positive\", \"negative\"]].isna().sum()"
   ]
  },
  {
   "cell_type": "markdown",
   "metadata": {},
   "source": [
    "There are no null values in the positive and negative review counts, so we will create a new variable: `n_reviews` and then reduce our dataset to only those with more than 100 reviews.\n",
    "\n",
    "Since there is little data for those with less than 100 reviews we will drop those rows in favor of a more robust dataset.\n",
    "\n",
    "We want to drop the rows at this stage because it will make it easier to fill in the null values."
   ]
  },
  {
   "cell_type": "code",
   "execution_count": 126,
   "metadata": {},
   "outputs": [],
   "source": [
    "# Create a new variable for number of reviews\n",
    "games_df[\"n_reviews\"] = games_df[\"positive\"] + games_df[\"negative\"]"
   ]
  },
  {
   "cell_type": "code",
   "execution_count": 127,
   "metadata": {},
   "outputs": [],
   "source": [
    "# Filter out games with less than 100 reviews\n",
    "games_df = games_df[games_df[\"n_reviews\"] >= 100]"
   ]
  },
  {
   "cell_type": "code",
   "execution_count": 128,
   "metadata": {},
   "outputs": [
    {
     "data": {
      "text/plain": [
       "(14642, 25)"
      ]
     },
     "execution_count": 128,
     "metadata": {},
     "output_type": "execute_result"
    }
   ],
   "source": [
    "games_df.shape"
   ]
  },
  {
   "cell_type": "code",
   "execution_count": 129,
   "metadata": {},
   "outputs": [
    {
     "data": {
      "text/plain": [
       "appid                  0\n",
       "name                   1\n",
       "developer             50\n",
       "publisher             31\n",
       "score_rank         14624\n",
       "positive               0\n",
       "negative               0\n",
       "userscore              0\n",
       "owners                 0\n",
       "average_forever        0\n",
       "average_2weeks         0\n",
       "median_forever         0\n",
       "median_2weeks          0\n",
       "price                  2\n",
       "initialprice           1\n",
       "discount               1\n",
       "languages              6\n",
       "genre                 69\n",
       "ccu                    0\n",
       "tags                   0\n",
       "neg_sent               0\n",
       "neu_sent               0\n",
       "pos_sent               0\n",
       "compound_sent          0\n",
       "n_reviews              0\n",
       "dtype: int64"
      ]
     },
     "execution_count": 129,
     "metadata": {},
     "output_type": "execute_result"
    }
   ],
   "source": [
    "games_df.isna().sum()"
   ]
  },
  {
   "cell_type": "markdown",
   "metadata": {},
   "source": [
    "### Price\n",
    "\n",
    "We will assume that if the price is null, then the game is free. We will fill in the null values with 0."
   ]
  },
  {
   "cell_type": "code",
   "execution_count": 130,
   "metadata": {},
   "outputs": [],
   "source": [
    "# Assume that games with no price are free\n",
    "games_df[[\"price\", \"initialprice\"]] = games_df[\n",
    "    [\"price\", \"initialprice\"]\n",
    "].fillna(0)"
   ]
  },
  {
   "cell_type": "markdown",
   "metadata": {},
   "source": [
    "### Score_rank, userscore,  and discount"
   ]
  },
  {
   "cell_type": "code",
   "execution_count": 131,
   "metadata": {},
   "outputs": [
    {
     "data": {
      "text/plain": [
       "score_rank\n",
       "99.0     8\n",
       "100.0    5\n",
       "98.0     4\n",
       "97.0     1\n",
       "Name: count, dtype: int64"
      ]
     },
     "execution_count": 131,
     "metadata": {},
     "output_type": "execute_result"
    }
   ],
   "source": [
    "games_df.score_rank.value_counts()"
   ]
  },
  {
   "cell_type": "code",
   "execution_count": 132,
   "metadata": {},
   "outputs": [
    {
     "data": {
      "text/plain": [
       "userscore\n",
       "0     14624\n",
       "95        3\n",
       "77        2\n",
       "62        1\n",
       "82        1\n",
       "83        1\n",
       "81        1\n",
       "67        1\n",
       "74        1\n",
       "97        1\n",
       "66        1\n",
       "46        1\n",
       "98        1\n",
       "73        1\n",
       "65        1\n",
       "84        1\n",
       "Name: count, dtype: int64"
      ]
     },
     "execution_count": 132,
     "metadata": {},
     "output_type": "execute_result"
    }
   ],
   "source": [
    "games_df.userscore.value_counts()"
   ]
  },
  {
   "cell_type": "markdown",
   "metadata": {},
   "source": [
    "Since score_rank is mostly null values we are going to drop this column from our dataframe. We will also drop the userscore column since it is mostly 0 values, and will use the positive and negative review counts as our measure of popularity."
   ]
  },
  {
   "cell_type": "code",
   "execution_count": 133,
   "metadata": {},
   "outputs": [],
   "source": [
    "games_df = games_df.drop(columns=[\"score_rank\", \"userscore\", \"discount\"])"
   ]
  },
  {
   "cell_type": "code",
   "execution_count": 134,
   "metadata": {},
   "outputs": [
    {
     "data": {
      "text/html": [
       "<div>\n",
       "<style scoped>\n",
       "    .dataframe tbody tr th:only-of-type {\n",
       "        vertical-align: middle;\n",
       "    }\n",
       "\n",
       "    .dataframe tbody tr th {\n",
       "        vertical-align: top;\n",
       "    }\n",
       "\n",
       "    .dataframe thead th {\n",
       "        text-align: right;\n",
       "    }\n",
       "</style>\n",
       "<table border=\"1\" class=\"dataframe\">\n",
       "  <thead>\n",
       "    <tr style=\"text-align: right;\">\n",
       "      <th></th>\n",
       "      <th>appid</th>\n",
       "      <th>name</th>\n",
       "      <th>developer</th>\n",
       "      <th>publisher</th>\n",
       "      <th>positive</th>\n",
       "      <th>negative</th>\n",
       "      <th>owners</th>\n",
       "      <th>average_forever</th>\n",
       "      <th>average_2weeks</th>\n",
       "      <th>median_forever</th>\n",
       "      <th>...</th>\n",
       "      <th>initialprice</th>\n",
       "      <th>languages</th>\n",
       "      <th>genre</th>\n",
       "      <th>ccu</th>\n",
       "      <th>tags</th>\n",
       "      <th>neg_sent</th>\n",
       "      <th>neu_sent</th>\n",
       "      <th>pos_sent</th>\n",
       "      <th>compound_sent</th>\n",
       "      <th>n_reviews</th>\n",
       "    </tr>\n",
       "  </thead>\n",
       "  <tbody>\n",
       "    <tr>\n",
       "      <th>0</th>\n",
       "      <td>10</td>\n",
       "      <td>Counter-Strike</td>\n",
       "      <td>Valve</td>\n",
       "      <td>Valve</td>\n",
       "      <td>193046</td>\n",
       "      <td>4940</td>\n",
       "      <td>10,000,000 .. 20,000,000</td>\n",
       "      <td>8486</td>\n",
       "      <td>178</td>\n",
       "      <td>196</td>\n",
       "      <td>...</td>\n",
       "      <td>999.0</td>\n",
       "      <td>English, French, German, Italian, Spanish - Sp...</td>\n",
       "      <td>Action</td>\n",
       "      <td>16360</td>\n",
       "      <td>{'Action': 5379, 'FPS': 4801, 'Multiplayer': 3...</td>\n",
       "      <td>0.10401</td>\n",
       "      <td>0.63499</td>\n",
       "      <td>0.26102</td>\n",
       "      <td>0.314473</td>\n",
       "      <td>197986</td>\n",
       "    </tr>\n",
       "    <tr>\n",
       "      <th>1</th>\n",
       "      <td>20</td>\n",
       "      <td>Team Fortress Classic</td>\n",
       "      <td>Valve</td>\n",
       "      <td>Valve</td>\n",
       "      <td>5412</td>\n",
       "      <td>895</td>\n",
       "      <td>5,000,000 .. 10,000,000</td>\n",
       "      <td>551</td>\n",
       "      <td>58</td>\n",
       "      <td>14</td>\n",
       "      <td>...</td>\n",
       "      <td>499.0</td>\n",
       "      <td>English, French, German, Italian, Spanish - Sp...</td>\n",
       "      <td>Action</td>\n",
       "      <td>87</td>\n",
       "      <td>{'Action': 745, 'FPS': 306, 'Multiplayer': 257...</td>\n",
       "      <td>0.08666</td>\n",
       "      <td>0.64698</td>\n",
       "      <td>0.23637</td>\n",
       "      <td>0.194547</td>\n",
       "      <td>6307</td>\n",
       "    </tr>\n",
       "    <tr>\n",
       "      <th>2</th>\n",
       "      <td>30</td>\n",
       "      <td>Day of Defeat</td>\n",
       "      <td>Valve</td>\n",
       "      <td>Valve</td>\n",
       "      <td>5003</td>\n",
       "      <td>556</td>\n",
       "      <td>5,000,000 .. 10,000,000</td>\n",
       "      <td>421</td>\n",
       "      <td>73</td>\n",
       "      <td>23</td>\n",
       "      <td>...</td>\n",
       "      <td>499.0</td>\n",
       "      <td>English, French, German, Italian, Spanish - Spain</td>\n",
       "      <td>Action</td>\n",
       "      <td>122</td>\n",
       "      <td>{'FPS': 787, 'World War II': 248, 'Multiplayer...</td>\n",
       "      <td>0.12435</td>\n",
       "      <td>0.59344</td>\n",
       "      <td>0.25220</td>\n",
       "      <td>0.292516</td>\n",
       "      <td>5559</td>\n",
       "    </tr>\n",
       "    <tr>\n",
       "      <th>3</th>\n",
       "      <td>40</td>\n",
       "      <td>Deathmatch Classic</td>\n",
       "      <td>Valve</td>\n",
       "      <td>Valve</td>\n",
       "      <td>1852</td>\n",
       "      <td>412</td>\n",
       "      <td>5,000,000 .. 10,000,000</td>\n",
       "      <td>318</td>\n",
       "      <td>0</td>\n",
       "      <td>7</td>\n",
       "      <td>...</td>\n",
       "      <td>499.0</td>\n",
       "      <td>English, French, German, Italian, Spanish - Sp...</td>\n",
       "      <td>Action</td>\n",
       "      <td>7</td>\n",
       "      <td>{'Action': 629, 'FPS': 139, 'Classic': 107, 'M...</td>\n",
       "      <td>0.12416</td>\n",
       "      <td>0.56693</td>\n",
       "      <td>0.28885</td>\n",
       "      <td>0.367227</td>\n",
       "      <td>2264</td>\n",
       "    </tr>\n",
       "    <tr>\n",
       "      <th>4</th>\n",
       "      <td>50</td>\n",
       "      <td>Half-Life: Opposing Force</td>\n",
       "      <td>Gearbox Software</td>\n",
       "      <td>Valve</td>\n",
       "      <td>13262</td>\n",
       "      <td>662</td>\n",
       "      <td>5,000,000 .. 10,000,000</td>\n",
       "      <td>676</td>\n",
       "      <td>0</td>\n",
       "      <td>150</td>\n",
       "      <td>...</td>\n",
       "      <td>499.0</td>\n",
       "      <td>English, French, German, Korean</td>\n",
       "      <td>Action</td>\n",
       "      <td>122</td>\n",
       "      <td>{'FPS': 881, 'Action': 322, 'Classic': 251, 'S...</td>\n",
       "      <td>0.07766</td>\n",
       "      <td>0.66268</td>\n",
       "      <td>0.23963</td>\n",
       "      <td>0.377009</td>\n",
       "      <td>13924</td>\n",
       "    </tr>\n",
       "  </tbody>\n",
       "</table>\n",
       "<p>5 rows × 22 columns</p>\n",
       "</div>"
      ],
      "text/plain": [
       "   appid                       name         developer publisher  positive  \\\n",
       "0     10             Counter-Strike             Valve     Valve    193046   \n",
       "1     20      Team Fortress Classic             Valve     Valve      5412   \n",
       "2     30              Day of Defeat             Valve     Valve      5003   \n",
       "3     40         Deathmatch Classic             Valve     Valve      1852   \n",
       "4     50  Half-Life: Opposing Force  Gearbox Software     Valve     13262   \n",
       "\n",
       "   negative                    owners  average_forever  average_2weeks  \\\n",
       "0      4940  10,000,000 .. 20,000,000             8486             178   \n",
       "1       895   5,000,000 .. 10,000,000              551              58   \n",
       "2       556   5,000,000 .. 10,000,000              421              73   \n",
       "3       412   5,000,000 .. 10,000,000              318               0   \n",
       "4       662   5,000,000 .. 10,000,000              676               0   \n",
       "\n",
       "   median_forever  ...  initialprice  \\\n",
       "0             196  ...         999.0   \n",
       "1              14  ...         499.0   \n",
       "2              23  ...         499.0   \n",
       "3               7  ...         499.0   \n",
       "4             150  ...         499.0   \n",
       "\n",
       "                                           languages   genre    ccu  \\\n",
       "0  English, French, German, Italian, Spanish - Sp...  Action  16360   \n",
       "1  English, French, German, Italian, Spanish - Sp...  Action     87   \n",
       "2  English, French, German, Italian, Spanish - Spain  Action    122   \n",
       "3  English, French, German, Italian, Spanish - Sp...  Action      7   \n",
       "4                    English, French, German, Korean  Action    122   \n",
       "\n",
       "                                                tags  neg_sent neu_sent  \\\n",
       "0  {'Action': 5379, 'FPS': 4801, 'Multiplayer': 3...   0.10401  0.63499   \n",
       "1  {'Action': 745, 'FPS': 306, 'Multiplayer': 257...   0.08666  0.64698   \n",
       "2  {'FPS': 787, 'World War II': 248, 'Multiplayer...   0.12435  0.59344   \n",
       "3  {'Action': 629, 'FPS': 139, 'Classic': 107, 'M...   0.12416  0.56693   \n",
       "4  {'FPS': 881, 'Action': 322, 'Classic': 251, 'S...   0.07766  0.66268   \n",
       "\n",
       "   pos_sent  compound_sent  n_reviews  \n",
       "0   0.26102       0.314473     197986  \n",
       "1   0.23637       0.194547       6307  \n",
       "2   0.25220       0.292516       5559  \n",
       "3   0.28885       0.367227       2264  \n",
       "4   0.23963       0.377009      13924  \n",
       "\n",
       "[5 rows x 22 columns]"
      ]
     },
     "execution_count": 134,
     "metadata": {},
     "output_type": "execute_result"
    }
   ],
   "source": [
    "games_df.head()"
   ]
  },
  {
   "cell_type": "markdown",
   "metadata": {},
   "source": [
    "### Genre\n",
    "\n",
    "There are 69 games in our dataset which have null values for the genre. We will fill these rows with a temporary value of 'No Genre' so that we can easily identify them. We will then decide to drop these rows after we have analysed the genre data."
   ]
  },
  {
   "cell_type": "code",
   "execution_count": 135,
   "metadata": {},
   "outputs": [],
   "source": [
    "games_df[\"genre\"] = games_df[\"genre\"].fillna(\"No Genre\")"
   ]
  },
  {
   "cell_type": "markdown",
   "metadata": {},
   "source": [
    "### Developer and Publisher\n",
    "\n",
    "Simlar to genre we will fill in the null values with a temporary value of 'Unknown' so that we can easily identify them. We will then decide to drop these rows after we have analysed the developer and publisher data."
   ]
  },
  {
   "cell_type": "code",
   "execution_count": 136,
   "metadata": {},
   "outputs": [],
   "source": [
    "games_df[[\"developer\", \"publisher\"]] = games_df[\n",
    "    [\"developer\", \"publisher\"]\n",
    "].fillna(\"Unknown\")"
   ]
  },
  {
   "cell_type": "markdown",
   "metadata": {},
   "source": [
    "### Languages\n",
    "\n"
   ]
  },
  {
   "cell_type": "code",
   "execution_count": 137,
   "metadata": {},
   "outputs": [
    {
     "data": {
      "text/html": [
       "<div>\n",
       "<style scoped>\n",
       "    .dataframe tbody tr th:only-of-type {\n",
       "        vertical-align: middle;\n",
       "    }\n",
       "\n",
       "    .dataframe tbody tr th {\n",
       "        vertical-align: top;\n",
       "    }\n",
       "\n",
       "    .dataframe thead th {\n",
       "        text-align: right;\n",
       "    }\n",
       "</style>\n",
       "<table border=\"1\" class=\"dataframe\">\n",
       "  <thead>\n",
       "    <tr style=\"text-align: right;\">\n",
       "      <th></th>\n",
       "      <th>appid</th>\n",
       "      <th>name</th>\n",
       "      <th>developer</th>\n",
       "      <th>publisher</th>\n",
       "      <th>positive</th>\n",
       "      <th>negative</th>\n",
       "      <th>owners</th>\n",
       "      <th>average_forever</th>\n",
       "      <th>average_2weeks</th>\n",
       "      <th>median_forever</th>\n",
       "      <th>...</th>\n",
       "      <th>initialprice</th>\n",
       "      <th>languages</th>\n",
       "      <th>genre</th>\n",
       "      <th>ccu</th>\n",
       "      <th>tags</th>\n",
       "      <th>neg_sent</th>\n",
       "      <th>neu_sent</th>\n",
       "      <th>pos_sent</th>\n",
       "      <th>compound_sent</th>\n",
       "      <th>n_reviews</th>\n",
       "    </tr>\n",
       "  </thead>\n",
       "  <tbody>\n",
       "    <tr>\n",
       "      <th>960</th>\n",
       "      <td>106000</td>\n",
       "      <td>The Cursed Crusade</td>\n",
       "      <td>Unknown</td>\n",
       "      <td>Unknown</td>\n",
       "      <td>195</td>\n",
       "      <td>111</td>\n",
       "      <td>0 .. 20,000</td>\n",
       "      <td>449</td>\n",
       "      <td>0</td>\n",
       "      <td>449</td>\n",
       "      <td>...</td>\n",
       "      <td>0.0</td>\n",
       "      <td>NaN</td>\n",
       "      <td>No Genre</td>\n",
       "      <td>3</td>\n",
       "      <td>{'Action': 32, 'Adventure': 32, 'Medieval': 12...</td>\n",
       "      <td>0.20540</td>\n",
       "      <td>0.54155</td>\n",
       "      <td>0.24304</td>\n",
       "      <td>0.046420</td>\n",
       "      <td>306</td>\n",
       "    </tr>\n",
       "    <tr>\n",
       "      <th>1178</th>\n",
       "      <td>211050</td>\n",
       "      <td>Battle vs Chess</td>\n",
       "      <td>Unknown</td>\n",
       "      <td>Unknown</td>\n",
       "      <td>695</td>\n",
       "      <td>281</td>\n",
       "      <td>0 .. 20,000</td>\n",
       "      <td>334</td>\n",
       "      <td>0</td>\n",
       "      <td>359</td>\n",
       "      <td>...</td>\n",
       "      <td>0.0</td>\n",
       "      <td>NaN</td>\n",
       "      <td>No Genre</td>\n",
       "      <td>27</td>\n",
       "      <td>{'Strategy': 400, 'Chess': 56, 'Casual': 46, '...</td>\n",
       "      <td>0.12198</td>\n",
       "      <td>0.54999</td>\n",
       "      <td>0.31804</td>\n",
       "      <td>0.290660</td>\n",
       "      <td>976</td>\n",
       "    </tr>\n",
       "    <tr>\n",
       "      <th>2380</th>\n",
       "      <td>280620</td>\n",
       "      <td>Fiesta Online</td>\n",
       "      <td>Unknown</td>\n",
       "      <td>Unknown</td>\n",
       "      <td>236</td>\n",
       "      <td>189</td>\n",
       "      <td>0 .. 20,000</td>\n",
       "      <td>19</td>\n",
       "      <td>0</td>\n",
       "      <td>19</td>\n",
       "      <td>...</td>\n",
       "      <td>0.0</td>\n",
       "      <td>NaN</td>\n",
       "      <td>No Genre</td>\n",
       "      <td>7</td>\n",
       "      <td>{'Free to Play': 90, 'Anime': 67, 'Massively M...</td>\n",
       "      <td>0.12790</td>\n",
       "      <td>0.61552</td>\n",
       "      <td>0.25658</td>\n",
       "      <td>0.424404</td>\n",
       "      <td>425</td>\n",
       "    </tr>\n",
       "    <tr>\n",
       "      <th>2552</th>\n",
       "      <td>288570</td>\n",
       "      <td>Wolfenstein: The New Order German Edition</td>\n",
       "      <td>Unknown</td>\n",
       "      <td>Unknown</td>\n",
       "      <td>1077</td>\n",
       "      <td>195</td>\n",
       "      <td>0 .. 20,000</td>\n",
       "      <td>755</td>\n",
       "      <td>0</td>\n",
       "      <td>831</td>\n",
       "      <td>...</td>\n",
       "      <td>0.0</td>\n",
       "      <td>NaN</td>\n",
       "      <td>No Genre</td>\n",
       "      <td>90</td>\n",
       "      <td>{'Action': 87, 'Shooter': 40, 'FPS': 27, 'Sing...</td>\n",
       "      <td>0.15513</td>\n",
       "      <td>0.60049</td>\n",
       "      <td>0.24435</td>\n",
       "      <td>0.305095</td>\n",
       "      <td>1272</td>\n",
       "    </tr>\n",
       "    <tr>\n",
       "      <th>3957</th>\n",
       "      <td>354830</td>\n",
       "      <td>Wolfenstein: The Old Blood German Edition</td>\n",
       "      <td>Unknown</td>\n",
       "      <td>Unknown</td>\n",
       "      <td>485</td>\n",
       "      <td>73</td>\n",
       "      <td>0 .. 20,000</td>\n",
       "      <td>401</td>\n",
       "      <td>0</td>\n",
       "      <td>595</td>\n",
       "      <td>...</td>\n",
       "      <td>0.0</td>\n",
       "      <td>NaN</td>\n",
       "      <td>No Genre</td>\n",
       "      <td>40</td>\n",
       "      <td>{'Action': 38, 'Shooter': 21, 'Singleplayer': ...</td>\n",
       "      <td>0.13615</td>\n",
       "      <td>0.63503</td>\n",
       "      <td>0.22885</td>\n",
       "      <td>0.409064</td>\n",
       "      <td>558</td>\n",
       "    </tr>\n",
       "    <tr>\n",
       "      <th>8190</th>\n",
       "      <td>650500</td>\n",
       "      <td>Wolfenstein II: The New Colossus German Edition</td>\n",
       "      <td>Unknown</td>\n",
       "      <td>Unknown</td>\n",
       "      <td>755</td>\n",
       "      <td>336</td>\n",
       "      <td>0 .. 20,000</td>\n",
       "      <td>880</td>\n",
       "      <td>0</td>\n",
       "      <td>1393</td>\n",
       "      <td>...</td>\n",
       "      <td>0.0</td>\n",
       "      <td>NaN</td>\n",
       "      <td>No Genre</td>\n",
       "      <td>135</td>\n",
       "      <td>{'Action': 41, 'Violent': 35, 'Gore': 32, 'Nud...</td>\n",
       "      <td>0.21175</td>\n",
       "      <td>0.59396</td>\n",
       "      <td>0.19429</td>\n",
       "      <td>0.105363</td>\n",
       "      <td>1091</td>\n",
       "    </tr>\n",
       "  </tbody>\n",
       "</table>\n",
       "<p>6 rows × 22 columns</p>\n",
       "</div>"
      ],
      "text/plain": [
       "       appid                                             name developer  \\\n",
       "960   106000                               The Cursed Crusade   Unknown   \n",
       "1178  211050                                  Battle vs Chess   Unknown   \n",
       "2380  280620                                    Fiesta Online   Unknown   \n",
       "2552  288570        Wolfenstein: The New Order German Edition   Unknown   \n",
       "3957  354830        Wolfenstein: The Old Blood German Edition   Unknown   \n",
       "8190  650500  Wolfenstein II: The New Colossus German Edition   Unknown   \n",
       "\n",
       "     publisher  positive  negative       owners  average_forever  \\\n",
       "960    Unknown       195       111  0 .. 20,000              449   \n",
       "1178   Unknown       695       281  0 .. 20,000              334   \n",
       "2380   Unknown       236       189  0 .. 20,000               19   \n",
       "2552   Unknown      1077       195  0 .. 20,000              755   \n",
       "3957   Unknown       485        73  0 .. 20,000              401   \n",
       "8190   Unknown       755       336  0 .. 20,000              880   \n",
       "\n",
       "      average_2weeks  median_forever  ...  initialprice  languages     genre  \\\n",
       "960                0             449  ...           0.0        NaN  No Genre   \n",
       "1178               0             359  ...           0.0        NaN  No Genre   \n",
       "2380               0              19  ...           0.0        NaN  No Genre   \n",
       "2552               0             831  ...           0.0        NaN  No Genre   \n",
       "3957               0             595  ...           0.0        NaN  No Genre   \n",
       "8190               0            1393  ...           0.0        NaN  No Genre   \n",
       "\n",
       "      ccu                                               tags  neg_sent  \\\n",
       "960     3  {'Action': 32, 'Adventure': 32, 'Medieval': 12...   0.20540   \n",
       "1178   27  {'Strategy': 400, 'Chess': 56, 'Casual': 46, '...   0.12198   \n",
       "2380    7  {'Free to Play': 90, 'Anime': 67, 'Massively M...   0.12790   \n",
       "2552   90  {'Action': 87, 'Shooter': 40, 'FPS': 27, 'Sing...   0.15513   \n",
       "3957   40  {'Action': 38, 'Shooter': 21, 'Singleplayer': ...   0.13615   \n",
       "8190  135  {'Action': 41, 'Violent': 35, 'Gore': 32, 'Nud...   0.21175   \n",
       "\n",
       "     neu_sent  pos_sent  compound_sent  n_reviews  \n",
       "960   0.54155   0.24304       0.046420        306  \n",
       "1178  0.54999   0.31804       0.290660        976  \n",
       "2380  0.61552   0.25658       0.424404        425  \n",
       "2552  0.60049   0.24435       0.305095       1272  \n",
       "3957  0.63503   0.22885       0.409064        558  \n",
       "8190  0.59396   0.19429       0.105363       1091  \n",
       "\n",
       "[6 rows x 22 columns]"
      ]
     },
     "execution_count": 137,
     "metadata": {},
     "output_type": "execute_result"
    }
   ],
   "source": [
    "games_df[games_df[\"languages\"].isna()]"
   ]
  },
  {
   "cell_type": "markdown",
   "metadata": {},
   "source": [
    "Since there are only 6 rows which have no language we will drop these rows"
   ]
  },
  {
   "cell_type": "code",
   "execution_count": 138,
   "metadata": {},
   "outputs": [],
   "source": [
    "games_df = games_df[games_df[\"languages\"].notna()]"
   ]
  },
  {
   "cell_type": "code",
   "execution_count": 139,
   "metadata": {},
   "outputs": [
    {
     "data": {
      "text/plain": [
       "appid              0\n",
       "name               1\n",
       "developer          0\n",
       "publisher          0\n",
       "positive           0\n",
       "negative           0\n",
       "owners             0\n",
       "average_forever    0\n",
       "average_2weeks     0\n",
       "median_forever     0\n",
       "median_2weeks      0\n",
       "price              0\n",
       "initialprice       0\n",
       "languages          0\n",
       "genre              0\n",
       "ccu                0\n",
       "tags               0\n",
       "neg_sent           0\n",
       "neu_sent           0\n",
       "pos_sent           0\n",
       "compound_sent      0\n",
       "n_reviews          0\n",
       "dtype: int64"
      ]
     },
     "execution_count": 139,
     "metadata": {},
     "output_type": "execute_result"
    }
   ],
   "source": [
    "games_df.isna().sum()"
   ]
  },
  {
   "cell_type": "markdown",
   "metadata": {},
   "source": [
    "### Name\n",
    "\n",
    "There is currently one game which has a null value for `name`. We will fill this value based on the `appid` of the game, when searched on the steam store. \n",
    "\n",
    "The name variable is also not very useful for our analysis and may be dropped later in favor of appid."
   ]
  },
  {
   "cell_type": "code",
   "execution_count": 140,
   "metadata": {},
   "outputs": [
    {
     "data": {
      "text/html": [
       "<div>\n",
       "<style scoped>\n",
       "    .dataframe tbody tr th:only-of-type {\n",
       "        vertical-align: middle;\n",
       "    }\n",
       "\n",
       "    .dataframe tbody tr th {\n",
       "        vertical-align: top;\n",
       "    }\n",
       "\n",
       "    .dataframe thead th {\n",
       "        text-align: right;\n",
       "    }\n",
       "</style>\n",
       "<table border=\"1\" class=\"dataframe\">\n",
       "  <thead>\n",
       "    <tr style=\"text-align: right;\">\n",
       "      <th></th>\n",
       "      <th>appid</th>\n",
       "      <th>name</th>\n",
       "      <th>developer</th>\n",
       "      <th>publisher</th>\n",
       "      <th>positive</th>\n",
       "      <th>negative</th>\n",
       "      <th>owners</th>\n",
       "      <th>average_forever</th>\n",
       "      <th>average_2weeks</th>\n",
       "      <th>median_forever</th>\n",
       "      <th>...</th>\n",
       "      <th>initialprice</th>\n",
       "      <th>languages</th>\n",
       "      <th>genre</th>\n",
       "      <th>ccu</th>\n",
       "      <th>tags</th>\n",
       "      <th>neg_sent</th>\n",
       "      <th>neu_sent</th>\n",
       "      <th>pos_sent</th>\n",
       "      <th>compound_sent</th>\n",
       "      <th>n_reviews</th>\n",
       "    </tr>\n",
       "  </thead>\n",
       "  <tbody>\n",
       "    <tr>\n",
       "      <th>7355</th>\n",
       "      <td>576960</td>\n",
       "      <td>NaN</td>\n",
       "      <td>Nuclear Tales</td>\n",
       "      <td>Unknown</td>\n",
       "      <td>110</td>\n",
       "      <td>26</td>\n",
       "      <td>20,000 .. 50,000</td>\n",
       "      <td>0</td>\n",
       "      <td>0</td>\n",
       "      <td>0</td>\n",
       "      <td>...</td>\n",
       "      <td>1499.0</td>\n",
       "      <td>English, Spanish - Spain, French, German</td>\n",
       "      <td>Adventure, Casual, Indie, RPG, Simulation, Str...</td>\n",
       "      <td>1</td>\n",
       "      <td>{'Adventure': 377, 'Choose Your Own Adventure'...</td>\n",
       "      <td>0.100583</td>\n",
       "      <td>0.566726</td>\n",
       "      <td>0.332595</td>\n",
       "      <td>0.494829</td>\n",
       "      <td>136</td>\n",
       "    </tr>\n",
       "  </tbody>\n",
       "</table>\n",
       "<p>1 rows × 22 columns</p>\n",
       "</div>"
      ],
      "text/plain": [
       "       appid name      developer publisher  positive  negative  \\\n",
       "7355  576960  NaN  Nuclear Tales   Unknown       110        26   \n",
       "\n",
       "                owners  average_forever  average_2weeks  median_forever  ...  \\\n",
       "7355  20,000 .. 50,000                0               0               0  ...   \n",
       "\n",
       "      initialprice                                 languages  \\\n",
       "7355        1499.0  English, Spanish - Spain, French, German   \n",
       "\n",
       "                                                  genre ccu  \\\n",
       "7355  Adventure, Casual, Indie, RPG, Simulation, Str...   1   \n",
       "\n",
       "                                                   tags  neg_sent  neu_sent  \\\n",
       "7355  {'Adventure': 377, 'Choose Your Own Adventure'...  0.100583  0.566726   \n",
       "\n",
       "      pos_sent  compound_sent  n_reviews  \n",
       "7355  0.332595       0.494829        136  \n",
       "\n",
       "[1 rows x 22 columns]"
      ]
     },
     "execution_count": 140,
     "metadata": {},
     "output_type": "execute_result"
    }
   ],
   "source": [
    "games_df[games_df[\"name\"].isna()]"
   ]
  },
  {
   "cell_type": "code",
   "execution_count": 141,
   "metadata": {},
   "outputs": [],
   "source": [
    "games_df[\"name\"] = games_df[\"name\"].fillna(\"🧠 OUT OF THE BO\")"
   ]
  },
  {
   "cell_type": "markdown",
   "metadata": {},
   "source": [
    "# Feature Engineering"
   ]
  },
  {
   "cell_type": "markdown",
   "metadata": {},
   "source": [
    "## Review Sentiment"
   ]
  },
  {
   "cell_type": "code",
   "execution_count": 142,
   "metadata": {},
   "outputs": [],
   "source": [
    "games_df[\"percentage_positive\"] = games_df[\"positive\"] / games_df[\"n_reviews\"]\n",
    "games_df[\"percentage_negative\"] = games_df[\"negative\"] / games_df[\"n_reviews\"]\n",
    "games_df[\"review_ratio\"] = games_df[\"positive\"] / games_df[\"negative\"]"
   ]
  },
  {
   "cell_type": "code",
   "execution_count": 143,
   "metadata": {},
   "outputs": [
    {
     "data": {
      "text/plain": [
       "count    14636.000000\n",
       "mean         0.785671\n",
       "std          0.154908\n",
       "min          0.076923\n",
       "25%          0.705518\n",
       "50%          0.822745\n",
       "75%          0.904523\n",
       "max          1.000000\n",
       "Name: percentage_positive, dtype: float64"
      ]
     },
     "execution_count": 143,
     "metadata": {},
     "output_type": "execute_result"
    }
   ],
   "source": [
    "games_df[\"percentage_positive\"].describe()"
   ]
  },
  {
   "cell_type": "code",
   "execution_count": 144,
   "metadata": {},
   "outputs": [
    {
     "data": {
      "image/png": "[encoded data removed]",
      "text/plain": [
       "<Figure size 640x480 with 1 Axes>"
      ]
     },
     "metadata": {},
     "output_type": "display_data"
    },
    {
     "data": {
      "image/png": "[encoded data removed]",
      "text/plain": [
       "<Figure size 640x480 with 1 Axes>"
      ]
     },
     "metadata": {},
     "output_type": "display_data"
    }
   ],
   "source": [
    "variables = [\"percentage_positive\", \"percentage_negative\"]\n",
    "\n",
    "for var in variables:\n",
    "    sns.histplot(games_df[var], bins=10)\n",
    "    plt.show()"
   ]
  },
  {
   "cell_type": "code",
   "execution_count": 145,
   "metadata": {},
   "outputs": [
    {
     "data": {
      "text/plain": [
       "<Axes: xlabel='review_ratio', ylabel='Count'>"
      ]
     },
     "execution_count": 145,
     "metadata": {},
     "output_type": "execute_result"
    },
    {
     "data": {
      "image/png": "[encoded data removed]",
      "text/plain": [
       "<Figure size 640x480 with 1 Axes>"
      ]
     },
     "metadata": {},
     "output_type": "display_data"
    }
   ],
   "source": [
    "sns.histplot(np.log(games_df[\"review_ratio\"]), bins=20)"
   ]
  },
  {
   "cell_type": "code",
   "execution_count": 146,
   "metadata": {},
   "outputs": [
    {
     "data": {
      "text/plain": [
       "<Axes: xlabel='n_reviews', ylabel='Count'>"
      ]
     },
     "execution_count": 146,
     "metadata": {},
     "output_type": "execute_result"
    },
    {
     "data": {
      "image/png": "[encoded data removed]",
      "text/plain": [
       "<Figure size 640x480 with 1 Axes>"
      ]
     },
     "metadata": {},
     "output_type": "display_data"
    }
   ],
   "source": [
    "sns.histplot(np.log(games_df[\"n_reviews\"]), bins=20)"
   ]
  },
  {
   "cell_type": "markdown",
   "metadata": {},
   "source": [
    "Lets see how the percent positive correlates with the positive sentiment analysis score"
   ]
  },
  {
   "cell_type": "code",
   "execution_count": 147,
   "metadata": {},
   "outputs": [
    {
     "data": {
      "image/png": "[encoded data removed]",
      "text/plain": [
       "<Figure size 600x600 with 3 Axes>"
      ]
     },
     "metadata": {},
     "output_type": "display_data"
    }
   ],
   "source": [
    "sns.jointplot(\n",
    "    x=\"percentage_positive\",\n",
    "    y=\"pos_sent\",\n",
    "    data=games_df,\n",
    "    kind=\"hex\",\n",
    "    color=\"#4CB391\",\n",
    ")\n",
    "plt.title(\"Positive Review Sentiment vs. Percentage Positive Reviews\")\n",
    "plt.show()"
   ]
  },
  {
   "cell_type": "code",
   "execution_count": 149,
   "metadata": {},
   "outputs": [
    {
     "data": {
      "image/png": "[encoded data removed]",
      "text/plain": [
       "<Figure size 600x600 with 3 Axes>"
      ]
     },
     "metadata": {},
     "output_type": "display_data"
    }
   ],
   "source": [
    "sns.jointplot(\n",
    "    x=\"percentage_negative\",\n",
    "    y=\"neg_sent\",\n",
    "    data=games_df,\n",
    "    kind=\"hex\",\n",
    "    color=\"#4CB391\",\n",
    ")\n",
    "plt.title(\"Negative Review Sentiment vs. Percentage Negative Reviews\")\n",
    "plt.show()"
   ]
  },
  {
   "cell_type": "code",
   "execution_count": 151,
   "metadata": {},
   "outputs": [
    {
     "data": {
      "text/html": [
       "<table class=\"simpletable\">\n",
       "<caption>OLS Regression Results</caption>\n",
       "<tr>\n",
       "  <th>Dep. Variable:</th>    <td>percentage_positive</td> <th>  R-squared:         </th>  <td>   0.177</td> \n",
       "</tr>\n",
       "<tr>\n",
       "  <th>Model:</th>                    <td>OLS</td>         <th>  Adj. R-squared:    </th>  <td>   0.177</td> \n",
       "</tr>\n",
       "<tr>\n",
       "  <th>Method:</th>              <td>Least Squares</td>    <th>  F-statistic:       </th>  <td>   3144.</td> \n",
       "</tr>\n",
       "<tr>\n",
       "  <th>Date:</th>              <td>Wed, 06 Dec 2023</td>   <th>  Prob (F-statistic):</th>   <td>  0.00</td>  \n",
       "</tr>\n",
       "<tr>\n",
       "  <th>Time:</th>                  <td>12:56:07</td>       <th>  Log-Likelihood:    </th>  <td>  7952.2</td> \n",
       "</tr>\n",
       "<tr>\n",
       "  <th>No. Observations:</th>       <td> 14636</td>        <th>  AIC:               </th> <td>-1.590e+04</td>\n",
       "</tr>\n",
       "<tr>\n",
       "  <th>Df Residuals:</th>           <td> 14634</td>        <th>  BIC:               </th> <td>-1.589e+04</td>\n",
       "</tr>\n",
       "<tr>\n",
       "  <th>Df Model:</th>               <td>     1</td>        <th>                     </th>      <td> </td>    \n",
       "</tr>\n",
       "<tr>\n",
       "  <th>Covariance Type:</th>       <td>nonrobust</td>      <th>                     </th>      <td> </td>    \n",
       "</tr>\n",
       "</table>\n",
       "<table class=\"simpletable\">\n",
       "<tr>\n",
       "      <td></td>         <th>coef</th>     <th>std err</th>      <th>t</th>      <th>P>|t|</th>  <th>[0.025</th>    <th>0.975]</th>  \n",
       "</tr>\n",
       "<tr>\n",
       "  <th>Intercept</th> <td>    0.4792</td> <td>    0.006</td> <td>   85.746</td> <td> 0.000</td> <td>    0.468</td> <td>    0.490</td>\n",
       "</tr>\n",
       "<tr>\n",
       "  <th>pos_sent</th>  <td>    1.0525</td> <td>    0.019</td> <td>   56.073</td> <td> 0.000</td> <td>    1.016</td> <td>    1.089</td>\n",
       "</tr>\n",
       "</table>\n",
       "<table class=\"simpletable\">\n",
       "<tr>\n",
       "  <th>Omnibus:</th>       <td>1115.401</td> <th>  Durbin-Watson:     </th> <td>   1.846</td>\n",
       "</tr>\n",
       "<tr>\n",
       "  <th>Prob(Omnibus):</th>  <td> 0.000</td>  <th>  Jarque-Bera (JB):  </th> <td>1454.614</td>\n",
       "</tr>\n",
       "<tr>\n",
       "  <th>Skew:</th>           <td>-0.679</td>  <th>  Prob(JB):          </th> <td>    0.00</td>\n",
       "</tr>\n",
       "<tr>\n",
       "  <th>Kurtosis:</th>       <td> 3.737</td>  <th>  Cond. No.          </th> <td>    17.5</td>\n",
       "</tr>\n",
       "</table><br/><br/>Notes:<br/>[1] Standard Errors assume that the covariance matrix of the errors is correctly specified."
      ],
      "text/latex": [
       "\\begin{center}\n",
       "\\begin{tabular}{lclc}\n",
       "\\toprule\n",
       "\\textbf{Dep. Variable:}    & percentage\\_positive & \\textbf{  R-squared:         } &     0.177   \\\\\n",
       "\\textbf{Model:}            &         OLS          & \\textbf{  Adj. R-squared:    } &     0.177   \\\\\n",
       "\\textbf{Method:}           &    Least Squares     & \\textbf{  F-statistic:       } &     3144.   \\\\\n",
       "\\textbf{Date:}             &   Wed, 06 Dec 2023   & \\textbf{  Prob (F-statistic):} &     0.00    \\\\\n",
       "\\textbf{Time:}             &       12:56:07       & \\textbf{  Log-Likelihood:    } &    7952.2   \\\\\n",
       "\\textbf{No. Observations:} &         14636        & \\textbf{  AIC:               } & -1.590e+04  \\\\\n",
       "\\textbf{Df Residuals:}     &         14634        & \\textbf{  BIC:               } & -1.589e+04  \\\\\n",
       "\\textbf{Df Model:}         &             1        & \\textbf{                     } &             \\\\\n",
       "\\textbf{Covariance Type:}  &      nonrobust       & \\textbf{                     } &             \\\\\n",
       "\\bottomrule\n",
       "\\end{tabular}\n",
       "\\begin{tabular}{lcccccc}\n",
       "                   & \\textbf{coef} & \\textbf{std err} & \\textbf{t} & \\textbf{P$> |$t$|$} & \\textbf{[0.025} & \\textbf{0.975]}  \\\\\n",
       "\\midrule\n",
       "\\textbf{Intercept} &       0.4792  &        0.006     &    85.746  &         0.000        &        0.468    &        0.490     \\\\\n",
       "\\textbf{pos\\_sent} &       1.0525  &        0.019     &    56.073  &         0.000        &        1.016    &        1.089     \\\\\n",
       "\\bottomrule\n",
       "\\end{tabular}\n",
       "\\begin{tabular}{lclc}\n",
       "\\textbf{Omnibus:}       & 1115.401 & \\textbf{  Durbin-Watson:     } &    1.846  \\\\\n",
       "\\textbf{Prob(Omnibus):} &   0.000  & \\textbf{  Jarque-Bera (JB):  } & 1454.614  \\\\\n",
       "\\textbf{Skew:}          &  -0.679  & \\textbf{  Prob(JB):          } &     0.00  \\\\\n",
       "\\textbf{Kurtosis:}      &   3.737  & \\textbf{  Cond. No.          } &     17.5  \\\\\n",
       "\\bottomrule\n",
       "\\end{tabular}\n",
       "%\\caption{OLS Regression Results}\n",
       "\\end{center}\n",
       "\n",
       "Notes: \\newline\n",
       " [1] Standard Errors assume that the covariance matrix of the errors is correctly specified."
      ],
      "text/plain": [
       "<class 'statsmodels.iolib.summary.Summary'>\n",
       "\"\"\"\n",
       "                             OLS Regression Results                            \n",
       "===============================================================================\n",
       "Dep. Variable:     percentage_positive   R-squared:                       0.177\n",
       "Model:                             OLS   Adj. R-squared:                  0.177\n",
       "Method:                  Least Squares   F-statistic:                     3144.\n",
       "Date:                 Wed, 06 Dec 2023   Prob (F-statistic):               0.00\n",
       "Time:                         12:56:07   Log-Likelihood:                 7952.2\n",
       "No. Observations:                14636   AIC:                        -1.590e+04\n",
       "Df Residuals:                    14634   BIC:                        -1.589e+04\n",
       "Df Model:                            1                                         \n",
       "Covariance Type:             nonrobust                                         \n",
       "==============================================================================\n",
       "                 coef    std err          t      P>|t|      [0.025      0.975]\n",
       "------------------------------------------------------------------------------\n",
       "Intercept      0.4792      0.006     85.746      0.000       0.468       0.490\n",
       "pos_sent       1.0525      0.019     56.073      0.000       1.016       1.089\n",
       "==============================================================================\n",
       "Omnibus:                     1115.401   Durbin-Watson:                   1.846\n",
       "Prob(Omnibus):                  0.000   Jarque-Bera (JB):             1454.614\n",
       "Skew:                          -0.679   Prob(JB):                         0.00\n",
       "Kurtosis:                       3.737   Cond. No.                         17.5\n",
       "==============================================================================\n",
       "\n",
       "Notes:\n",
       "[1] Standard Errors assume that the covariance matrix of the errors is correctly specified.\n",
       "\"\"\""
      ]
     },
     "execution_count": 151,
     "metadata": {},
     "output_type": "execute_result"
    }
   ],
   "source": [
    "#  Use statsmodels to Create a regression model for percentage positive reviews and positive sentiment\n",
    "model = ols(\n",
    "    \"percentage_positive ~ pos_sent\", data=games_df\n",
    ").fit()  # Use ordinary least squares regression\n",
    "\n",
    "model.summary()"
   ]
  },
  {
   "cell_type": "code",
   "execution_count": 150,
   "metadata": {},
   "outputs": [
    {
     "data": {
      "text/html": [
       "<table class=\"simpletable\">\n",
       "<caption>OLS Regression Results</caption>\n",
       "<tr>\n",
       "  <th>Dep. Variable:</th>    <td>percentage_negative</td> <th>  R-squared:         </th>  <td>   0.251</td> \n",
       "</tr>\n",
       "<tr>\n",
       "  <th>Model:</th>                    <td>OLS</td>         <th>  Adj. R-squared:    </th>  <td>   0.251</td> \n",
       "</tr>\n",
       "<tr>\n",
       "  <th>Method:</th>              <td>Least Squares</td>    <th>  F-statistic:       </th>  <td>   4903.</td> \n",
       "</tr>\n",
       "<tr>\n",
       "  <th>Date:</th>              <td>Wed, 06 Dec 2023</td>   <th>  Prob (F-statistic):</th>   <td>  0.00</td>  \n",
       "</tr>\n",
       "<tr>\n",
       "  <th>Time:</th>                  <td>12:56:04</td>       <th>  Log-Likelihood:    </th>  <td>  8642.6</td> \n",
       "</tr>\n",
       "<tr>\n",
       "  <th>No. Observations:</th>       <td> 14636</td>        <th>  AIC:               </th> <td>-1.728e+04</td>\n",
       "</tr>\n",
       "<tr>\n",
       "  <th>Df Residuals:</th>           <td> 14634</td>        <th>  BIC:               </th> <td>-1.727e+04</td>\n",
       "</tr>\n",
       "<tr>\n",
       "  <th>Df Model:</th>               <td>     1</td>        <th>                     </th>      <td> </td>    \n",
       "</tr>\n",
       "<tr>\n",
       "  <th>Covariance Type:</th>       <td>nonrobust</td>      <th>                     </th>      <td> </td>    \n",
       "</tr>\n",
       "</table>\n",
       "<table class=\"simpletable\">\n",
       "<tr>\n",
       "      <td></td>         <th>coef</th>     <th>std err</th>      <th>t</th>      <th>P>|t|</th>  <th>[0.025</th>    <th>0.975]</th>  \n",
       "</tr>\n",
       "<tr>\n",
       "  <th>Intercept</th> <td>    0.0052</td> <td>    0.003</td> <td>    1.622</td> <td> 0.105</td> <td>   -0.001</td> <td>    0.011</td>\n",
       "</tr>\n",
       "<tr>\n",
       "  <th>neg_sent</th>  <td>    1.8531</td> <td>    0.026</td> <td>   70.021</td> <td> 0.000</td> <td>    1.801</td> <td>    1.905</td>\n",
       "</tr>\n",
       "</table>\n",
       "<table class=\"simpletable\">\n",
       "<tr>\n",
       "  <th>Omnibus:</th>       <td>1217.384</td> <th>  Durbin-Watson:     </th> <td>   1.896</td>\n",
       "</tr>\n",
       "<tr>\n",
       "  <th>Prob(Omnibus):</th>  <td> 0.000</td>  <th>  Jarque-Bera (JB):  </th> <td>1824.538</td>\n",
       "</tr>\n",
       "<tr>\n",
       "  <th>Skew:</th>           <td> 0.657</td>  <th>  Prob(JB):          </th> <td>    0.00</td>\n",
       "</tr>\n",
       "<tr>\n",
       "  <th>Kurtosis:</th>       <td> 4.124</td>  <th>  Cond. No.          </th> <td>    24.2</td>\n",
       "</tr>\n",
       "</table><br/><br/>Notes:<br/>[1] Standard Errors assume that the covariance matrix of the errors is correctly specified."
      ],
      "text/latex": [
       "\\begin{center}\n",
       "\\begin{tabular}{lclc}\n",
       "\\toprule\n",
       "\\textbf{Dep. Variable:}    & percentage\\_negative & \\textbf{  R-squared:         } &     0.251   \\\\\n",
       "\\textbf{Model:}            &         OLS          & \\textbf{  Adj. R-squared:    } &     0.251   \\\\\n",
       "\\textbf{Method:}           &    Least Squares     & \\textbf{  F-statistic:       } &     4903.   \\\\\n",
       "\\textbf{Date:}             &   Wed, 06 Dec 2023   & \\textbf{  Prob (F-statistic):} &     0.00    \\\\\n",
       "\\textbf{Time:}             &       12:56:04       & \\textbf{  Log-Likelihood:    } &    8642.6   \\\\\n",
       "\\textbf{No. Observations:} &         14636        & \\textbf{  AIC:               } & -1.728e+04  \\\\\n",
       "\\textbf{Df Residuals:}     &         14634        & \\textbf{  BIC:               } & -1.727e+04  \\\\\n",
       "\\textbf{Df Model:}         &             1        & \\textbf{                     } &             \\\\\n",
       "\\textbf{Covariance Type:}  &      nonrobust       & \\textbf{                     } &             \\\\\n",
       "\\bottomrule\n",
       "\\end{tabular}\n",
       "\\begin{tabular}{lcccccc}\n",
       "                   & \\textbf{coef} & \\textbf{std err} & \\textbf{t} & \\textbf{P$> |$t$|$} & \\textbf{[0.025} & \\textbf{0.975]}  \\\\\n",
       "\\midrule\n",
       "\\textbf{Intercept} &       0.0052  &        0.003     &     1.622  &         0.105        &       -0.001    &        0.011     \\\\\n",
       "\\textbf{neg\\_sent} &       1.8531  &        0.026     &    70.021  &         0.000        &        1.801    &        1.905     \\\\\n",
       "\\bottomrule\n",
       "\\end{tabular}\n",
       "\\begin{tabular}{lclc}\n",
       "\\textbf{Omnibus:}       & 1217.384 & \\textbf{  Durbin-Watson:     } &    1.896  \\\\\n",
       "\\textbf{Prob(Omnibus):} &   0.000  & \\textbf{  Jarque-Bera (JB):  } & 1824.538  \\\\\n",
       "\\textbf{Skew:}          &   0.657  & \\textbf{  Prob(JB):          } &     0.00  \\\\\n",
       "\\textbf{Kurtosis:}      &   4.124  & \\textbf{  Cond. No.          } &     24.2  \\\\\n",
       "\\bottomrule\n",
       "\\end{tabular}\n",
       "%\\caption{OLS Regression Results}\n",
       "\\end{center}\n",
       "\n",
       "Notes: \\newline\n",
       " [1] Standard Errors assume that the covariance matrix of the errors is correctly specified."
      ],
      "text/plain": [
       "<class 'statsmodels.iolib.summary.Summary'>\n",
       "\"\"\"\n",
       "                             OLS Regression Results                            \n",
       "===============================================================================\n",
       "Dep. Variable:     percentage_negative   R-squared:                       0.251\n",
       "Model:                             OLS   Adj. R-squared:                  0.251\n",
       "Method:                  Least Squares   F-statistic:                     4903.\n",
       "Date:                 Wed, 06 Dec 2023   Prob (F-statistic):               0.00\n",
       "Time:                         12:56:04   Log-Likelihood:                 8642.6\n",
       "No. Observations:                14636   AIC:                        -1.728e+04\n",
       "Df Residuals:                    14634   BIC:                        -1.727e+04\n",
       "Df Model:                            1                                         \n",
       "Covariance Type:             nonrobust                                         \n",
       "==============================================================================\n",
       "                 coef    std err          t      P>|t|      [0.025      0.975]\n",
       "------------------------------------------------------------------------------\n",
       "Intercept      0.0052      0.003      1.622      0.105      -0.001       0.011\n",
       "neg_sent       1.8531      0.026     70.021      0.000       1.801       1.905\n",
       "==============================================================================\n",
       "Omnibus:                     1217.384   Durbin-Watson:                   1.896\n",
       "Prob(Omnibus):                  0.000   Jarque-Bera (JB):             1824.538\n",
       "Skew:                           0.657   Prob(JB):                         0.00\n",
       "Kurtosis:                       4.124   Cond. No.                         24.2\n",
       "==============================================================================\n",
       "\n",
       "Notes:\n",
       "[1] Standard Errors assume that the covariance matrix of the errors is correctly specified.\n",
       "\"\"\""
      ]
     },
     "execution_count": 150,
     "metadata": {},
     "output_type": "execute_result"
    }
   ],
   "source": [
    "model = ols(\n",
    "    \"percentage_negative ~ neg_sent\", data=games_df\n",
    ").fit()  # Use ordinary least squares regression\n",
    "\n",
    "model.summary()"
   ]
  },
  {
   "cell_type": "markdown",
   "metadata": {},
   "source": [
    "## Genre Encoding"
   ]
  },
  {
   "cell_type": "markdown",
   "metadata": {},
   "source": [
    "To look at the genre distributions of the games on steam, we will need to encode the genre column.<br>\n",
    "\n",
    "Currently the genre column is a list of genres, we will split this list apart and the create a new column for each genre. If the game has that genre, then the value will be 1, otherwise it will be 0."
   ]
  },
  {
   "cell_type": "code",
   "execution_count": 152,
   "metadata": {},
   "outputs": [
    {
     "data": {
      "text/html": [
       "<div>\n",
       "<style scoped>\n",
       "    .dataframe tbody tr th:only-of-type {\n",
       "        vertical-align: middle;\n",
       "    }\n",
       "\n",
       "    .dataframe tbody tr th {\n",
       "        vertical-align: top;\n",
       "    }\n",
       "\n",
       "    .dataframe thead th {\n",
       "        text-align: right;\n",
       "    }\n",
       "</style>\n",
       "<table border=\"1\" class=\"dataframe\">\n",
       "  <thead>\n",
       "    <tr style=\"text-align: right;\">\n",
       "      <th></th>\n",
       "      <th>Action</th>\n",
       "      <th>Adventure</th>\n",
       "      <th>Animation &amp; Modeling</th>\n",
       "      <th>Audio Production</th>\n",
       "      <th>Casual</th>\n",
       "      <th>Design &amp; Illustration</th>\n",
       "      <th>Early Access</th>\n",
       "      <th>Education</th>\n",
       "      <th>Free to Play</th>\n",
       "      <th>Gore</th>\n",
       "      <th>...</th>\n",
       "      <th>RPG</th>\n",
       "      <th>Racing</th>\n",
       "      <th>Sexual Content</th>\n",
       "      <th>Simulation</th>\n",
       "      <th>Software Training</th>\n",
       "      <th>Sports</th>\n",
       "      <th>Strategy</th>\n",
       "      <th>Utilities</th>\n",
       "      <th>Violent</th>\n",
       "      <th>Web Publishing</th>\n",
       "    </tr>\n",
       "  </thead>\n",
       "  <tbody>\n",
       "    <tr>\n",
       "      <th>0</th>\n",
       "      <td>1</td>\n",
       "      <td>0</td>\n",
       "      <td>0</td>\n",
       "      <td>0</td>\n",
       "      <td>0</td>\n",
       "      <td>0</td>\n",
       "      <td>0</td>\n",
       "      <td>0</td>\n",
       "      <td>0</td>\n",
       "      <td>0</td>\n",
       "      <td>...</td>\n",
       "      <td>0</td>\n",
       "      <td>0</td>\n",
       "      <td>0</td>\n",
       "      <td>0</td>\n",
       "      <td>0</td>\n",
       "      <td>0</td>\n",
       "      <td>0</td>\n",
       "      <td>0</td>\n",
       "      <td>0</td>\n",
       "      <td>0</td>\n",
       "    </tr>\n",
       "    <tr>\n",
       "      <th>1</th>\n",
       "      <td>1</td>\n",
       "      <td>0</td>\n",
       "      <td>0</td>\n",
       "      <td>0</td>\n",
       "      <td>0</td>\n",
       "      <td>0</td>\n",
       "      <td>0</td>\n",
       "      <td>0</td>\n",
       "      <td>0</td>\n",
       "      <td>0</td>\n",
       "      <td>...</td>\n",
       "      <td>0</td>\n",
       "      <td>0</td>\n",
       "      <td>0</td>\n",
       "      <td>0</td>\n",
       "      <td>0</td>\n",
       "      <td>0</td>\n",
       "      <td>0</td>\n",
       "      <td>0</td>\n",
       "      <td>0</td>\n",
       "      <td>0</td>\n",
       "    </tr>\n",
       "    <tr>\n",
       "      <th>2</th>\n",
       "      <td>1</td>\n",
       "      <td>0</td>\n",
       "      <td>0</td>\n",
       "      <td>0</td>\n",
       "      <td>0</td>\n",
       "      <td>0</td>\n",
       "      <td>0</td>\n",
       "      <td>0</td>\n",
       "      <td>0</td>\n",
       "      <td>0</td>\n",
       "      <td>...</td>\n",
       "      <td>0</td>\n",
       "      <td>0</td>\n",
       "      <td>0</td>\n",
       "      <td>0</td>\n",
       "      <td>0</td>\n",
       "      <td>0</td>\n",
       "      <td>0</td>\n",
       "      <td>0</td>\n",
       "      <td>0</td>\n",
       "      <td>0</td>\n",
       "    </tr>\n",
       "    <tr>\n",
       "      <th>3</th>\n",
       "      <td>1</td>\n",
       "      <td>0</td>\n",
       "      <td>0</td>\n",
       "      <td>0</td>\n",
       "      <td>0</td>\n",
       "      <td>0</td>\n",
       "      <td>0</td>\n",
       "      <td>0</td>\n",
       "      <td>0</td>\n",
       "      <td>0</td>\n",
       "      <td>...</td>\n",
       "      <td>0</td>\n",
       "      <td>0</td>\n",
       "      <td>0</td>\n",
       "      <td>0</td>\n",
       "      <td>0</td>\n",
       "      <td>0</td>\n",
       "      <td>0</td>\n",
       "      <td>0</td>\n",
       "      <td>0</td>\n",
       "      <td>0</td>\n",
       "    </tr>\n",
       "    <tr>\n",
       "      <th>4</th>\n",
       "      <td>1</td>\n",
       "      <td>0</td>\n",
       "      <td>0</td>\n",
       "      <td>0</td>\n",
       "      <td>0</td>\n",
       "      <td>0</td>\n",
       "      <td>0</td>\n",
       "      <td>0</td>\n",
       "      <td>0</td>\n",
       "      <td>0</td>\n",
       "      <td>...</td>\n",
       "      <td>0</td>\n",
       "      <td>0</td>\n",
       "      <td>0</td>\n",
       "      <td>0</td>\n",
       "      <td>0</td>\n",
       "      <td>0</td>\n",
       "      <td>0</td>\n",
       "      <td>0</td>\n",
       "      <td>0</td>\n",
       "      <td>0</td>\n",
       "    </tr>\n",
       "  </tbody>\n",
       "</table>\n",
       "<p>5 rows × 25 columns</p>\n",
       "</div>"
      ],
      "text/plain": [
       "   Action  Adventure  Animation & Modeling  Audio Production  Casual  \\\n",
       "0       1          0                     0                 0       0   \n",
       "1       1          0                     0                 0       0   \n",
       "2       1          0                     0                 0       0   \n",
       "3       1          0                     0                 0       0   \n",
       "4       1          0                     0                 0       0   \n",
       "\n",
       "   Design & Illustration  Early Access  Education  Free to Play  Gore  ...  \\\n",
       "0                      0             0          0             0     0  ...   \n",
       "1                      0             0          0             0     0  ...   \n",
       "2                      0             0          0             0     0  ...   \n",
       "3                      0             0          0             0     0  ...   \n",
       "4                      0             0          0             0     0  ...   \n",
       "\n",
       "   RPG  Racing  Sexual Content  Simulation  Software Training  Sports  \\\n",
       "0    0       0               0           0                  0       0   \n",
       "1    0       0               0           0                  0       0   \n",
       "2    0       0               0           0                  0       0   \n",
       "3    0       0               0           0                  0       0   \n",
       "4    0       0               0           0                  0       0   \n",
       "\n",
       "   Strategy  Utilities  Violent  Web Publishing  \n",
       "0         0          0        0               0  \n",
       "1         0          0        0               0  \n",
       "2         0          0        0               0  \n",
       "3         0          0        0               0  \n",
       "4         0          0        0               0  \n",
       "\n",
       "[5 rows x 25 columns]"
      ]
     },
     "execution_count": 152,
     "metadata": {},
     "output_type": "execute_result"
    }
   ],
   "source": [
    "# Select appid , name, and genre columns\n",
    "genre_df = games_df[\n",
    "    [\n",
    "        \"appid\",\n",
    "        \"name\",\n",
    "        \"genre\",\n",
    "    ]\n",
    "]\n",
    "\n",
    "mlb = MultiLabelBinarizer()\n",
    "\n",
    "# Create a dataframe with the encoded genre column\n",
    "genres = pd.DataFrame(\n",
    "    mlb.fit_transform(games_df[\"genre\"].astype(str).str.split(\", \")),\n",
    "    columns=mlb.classes_,\n",
    "    index=games_df.index,\n",
    ")\n",
    "genres.head()"
   ]
  },
  {
   "cell_type": "markdown",
   "metadata": {},
   "source": [
    "Some genres only have a few games, so we will drop those genres from our dataset."
   ]
  },
  {
   "cell_type": "code",
   "execution_count": 153,
   "metadata": {},
   "outputs": [],
   "source": [
    "# Filter out genres with less than 10 games\n",
    "red_genres = genres[genres.columns[genres.sum() > 10]]"
   ]
  },
  {
   "cell_type": "code",
   "execution_count": 154,
   "metadata": {},
   "outputs": [
    {
     "data": {
      "text/html": [
       "<div>\n",
       "<style scoped>\n",
       "    .dataframe tbody tr th:only-of-type {\n",
       "        vertical-align: middle;\n",
       "    }\n",
       "\n",
       "    .dataframe tbody tr th {\n",
       "        vertical-align: top;\n",
       "    }\n",
       "\n",
       "    .dataframe thead th {\n",
       "        text-align: right;\n",
       "    }\n",
       "</style>\n",
       "<table border=\"1\" class=\"dataframe\">\n",
       "  <thead>\n",
       "    <tr style=\"text-align: right;\">\n",
       "      <th></th>\n",
       "      <th>Action</th>\n",
       "      <th>Adventure</th>\n",
       "      <th>Casual</th>\n",
       "      <th>Early Access</th>\n",
       "      <th>Free to Play</th>\n",
       "      <th>Indie</th>\n",
       "      <th>Massively Multiplayer</th>\n",
       "      <th>No Genre</th>\n",
       "      <th>RPG</th>\n",
       "      <th>Racing</th>\n",
       "      <th>Simulation</th>\n",
       "      <th>Sports</th>\n",
       "      <th>Strategy</th>\n",
       "    </tr>\n",
       "  </thead>\n",
       "  <tbody>\n",
       "    <tr>\n",
       "      <th>0</th>\n",
       "      <td>1</td>\n",
       "      <td>0</td>\n",
       "      <td>0</td>\n",
       "      <td>0</td>\n",
       "      <td>0</td>\n",
       "      <td>0</td>\n",
       "      <td>0</td>\n",
       "      <td>0</td>\n",
       "      <td>0</td>\n",
       "      <td>0</td>\n",
       "      <td>0</td>\n",
       "      <td>0</td>\n",
       "      <td>0</td>\n",
       "    </tr>\n",
       "    <tr>\n",
       "      <th>1</th>\n",
       "      <td>1</td>\n",
       "      <td>0</td>\n",
       "      <td>0</td>\n",
       "      <td>0</td>\n",
       "      <td>0</td>\n",
       "      <td>0</td>\n",
       "      <td>0</td>\n",
       "      <td>0</td>\n",
       "      <td>0</td>\n",
       "      <td>0</td>\n",
       "      <td>0</td>\n",
       "      <td>0</td>\n",
       "      <td>0</td>\n",
       "    </tr>\n",
       "    <tr>\n",
       "      <th>2</th>\n",
       "      <td>1</td>\n",
       "      <td>0</td>\n",
       "      <td>0</td>\n",
       "      <td>0</td>\n",
       "      <td>0</td>\n",
       "      <td>0</td>\n",
       "      <td>0</td>\n",
       "      <td>0</td>\n",
       "      <td>0</td>\n",
       "      <td>0</td>\n",
       "      <td>0</td>\n",
       "      <td>0</td>\n",
       "      <td>0</td>\n",
       "    </tr>\n",
       "    <tr>\n",
       "      <th>3</th>\n",
       "      <td>1</td>\n",
       "      <td>0</td>\n",
       "      <td>0</td>\n",
       "      <td>0</td>\n",
       "      <td>0</td>\n",
       "      <td>0</td>\n",
       "      <td>0</td>\n",
       "      <td>0</td>\n",
       "      <td>0</td>\n",
       "      <td>0</td>\n",
       "      <td>0</td>\n",
       "      <td>0</td>\n",
       "      <td>0</td>\n",
       "    </tr>\n",
       "    <tr>\n",
       "      <th>4</th>\n",
       "      <td>1</td>\n",
       "      <td>0</td>\n",
       "      <td>0</td>\n",
       "      <td>0</td>\n",
       "      <td>0</td>\n",
       "      <td>0</td>\n",
       "      <td>0</td>\n",
       "      <td>0</td>\n",
       "      <td>0</td>\n",
       "      <td>0</td>\n",
       "      <td>0</td>\n",
       "      <td>0</td>\n",
       "      <td>0</td>\n",
       "    </tr>\n",
       "  </tbody>\n",
       "</table>\n",
       "</div>"
      ],
      "text/plain": [
       "   Action  Adventure  Casual  Early Access  Free to Play  Indie  \\\n",
       "0       1          0       0             0             0      0   \n",
       "1       1          0       0             0             0      0   \n",
       "2       1          0       0             0             0      0   \n",
       "3       1          0       0             0             0      0   \n",
       "4       1          0       0             0             0      0   \n",
       "\n",
       "   Massively Multiplayer  No Genre  RPG  Racing  Simulation  Sports  Strategy  \n",
       "0                      0         0    0       0           0       0         0  \n",
       "1                      0         0    0       0           0       0         0  \n",
       "2                      0         0    0       0           0       0         0  \n",
       "3                      0         0    0       0           0       0         0  \n",
       "4                      0         0    0       0           0       0         0  "
      ]
     },
     "execution_count": 154,
     "metadata": {},
     "output_type": "execute_result"
    }
   ],
   "source": [
    "red_genres.head()"
   ]
  },
  {
   "cell_type": "code",
   "execution_count": 256,
   "metadata": {},
   "outputs": [
    {
     "data": {
      "image/png": "[encoded data removed]",
      "text/plain": [
       "<Figure size 700x500 with 1 Axes>"
      ]
     },
     "metadata": {},
     "output_type": "display_data"
    }
   ],
   "source": [
    "plt.figure(figsize=(7, 5))\n",
    "sns.barplot(\n",
    "    x=red_genres.columns,\n",
    "    y=red_genres.sum(),\n",
    "    order=red_genres.sum().sort_values(ascending=False).index,\n",
    "    palette=\"Set2\",\n",
    ")\n",
    "plt.xticks(rotation=90)\n",
    "plt.show()"
   ]
  },
  {
   "cell_type": "markdown",
   "metadata": {},
   "source": [
    "## Language Encoding"
   ]
  },
  {
   "cell_type": "markdown",
   "metadata": {},
   "source": [
    "Similar to the genre column, the language column is a list of languages. Intially our intention was to follow the same procedure as we did with genre, however upon analyzing the data we found that some games had 29 different languages listed. This would result in 19 new columns for our dataset, which could cause issues with our analysis moving forward. \n",
    "\n",
    "Instead we will create a new column which will be the number of languages the game supports. This will allow us to see if there is a correlation between the number of languages supported and the number of positive reviews."
   ]
  },
  {
   "cell_type": "code",
   "execution_count": 156,
   "metadata": {},
   "outputs": [
    {
     "data": {
      "text/html": [
       "<div>\n",
       "<style scoped>\n",
       "    .dataframe tbody tr th:only-of-type {\n",
       "        vertical-align: middle;\n",
       "    }\n",
       "\n",
       "    .dataframe tbody tr th {\n",
       "        vertical-align: top;\n",
       "    }\n",
       "\n",
       "    .dataframe thead th {\n",
       "        text-align: right;\n",
       "    }\n",
       "</style>\n",
       "<table border=\"1\" class=\"dataframe\">\n",
       "  <thead>\n",
       "    <tr style=\"text-align: right;\">\n",
       "      <th></th>\n",
       "      <th>appid</th>\n",
       "      <th>name</th>\n",
       "      <th>developer</th>\n",
       "      <th>publisher</th>\n",
       "      <th>positive</th>\n",
       "      <th>negative</th>\n",
       "      <th>owners</th>\n",
       "      <th>average_forever</th>\n",
       "      <th>average_2weeks</th>\n",
       "      <th>median_forever</th>\n",
       "      <th>...</th>\n",
       "      <th>tags</th>\n",
       "      <th>neg_sent</th>\n",
       "      <th>neu_sent</th>\n",
       "      <th>pos_sent</th>\n",
       "      <th>compound_sent</th>\n",
       "      <th>n_reviews</th>\n",
       "      <th>percentage_positive</th>\n",
       "      <th>percentage_negative</th>\n",
       "      <th>review_ratio</th>\n",
       "      <th>n_languages</th>\n",
       "    </tr>\n",
       "  </thead>\n",
       "  <tbody>\n",
       "    <tr>\n",
       "      <th>13162</th>\n",
       "      <td>1285000</td>\n",
       "      <td>Stayhome Simulator</td>\n",
       "      <td>Two Inc</td>\n",
       "      <td>Click Games</td>\n",
       "      <td>100</td>\n",
       "      <td>30</td>\n",
       "      <td>20,000 .. 50,000</td>\n",
       "      <td>0</td>\n",
       "      <td>0</td>\n",
       "      <td>0</td>\n",
       "      <td>...</td>\n",
       "      <td>{'Casual': 119, 'Indie': 118, 'Action': 116, '...</td>\n",
       "      <td>0.081627</td>\n",
       "      <td>0.603569</td>\n",
       "      <td>0.275569</td>\n",
       "      <td>0.259290</td>\n",
       "      <td>130</td>\n",
       "      <td>0.769231</td>\n",
       "      <td>0.230769</td>\n",
       "      <td>3.333333</td>\n",
       "      <td>29</td>\n",
       "    </tr>\n",
       "    <tr>\n",
       "      <th>14313</th>\n",
       "      <td>1554790</td>\n",
       "      <td>Coloring Game 4</td>\n",
       "      <td>L. Stotch</td>\n",
       "      <td>L. Stotch</td>\n",
       "      <td>1236</td>\n",
       "      <td>77</td>\n",
       "      <td>100,000 .. 200,000</td>\n",
       "      <td>118</td>\n",
       "      <td>0</td>\n",
       "      <td>171</td>\n",
       "      <td>...</td>\n",
       "      <td>{'Free to Play': 35, 'Indie': 34, 'Casual': 34...</td>\n",
       "      <td>0.060900</td>\n",
       "      <td>0.539490</td>\n",
       "      <td>0.389620</td>\n",
       "      <td>0.533057</td>\n",
       "      <td>1313</td>\n",
       "      <td>0.941356</td>\n",
       "      <td>0.058644</td>\n",
       "      <td>16.051948</td>\n",
       "      <td>29</td>\n",
       "    </tr>\n",
       "    <tr>\n",
       "      <th>10666</th>\n",
       "      <td>939390</td>\n",
       "      <td>The Life of One Dog</td>\n",
       "      <td>BrainStorming Team</td>\n",
       "      <td>КиКо</td>\n",
       "      <td>46</td>\n",
       "      <td>60</td>\n",
       "      <td>0 .. 20,000</td>\n",
       "      <td>0</td>\n",
       "      <td>0</td>\n",
       "      <td>0</td>\n",
       "      <td>...</td>\n",
       "      <td>{'Casual': 24, 'RPGMaker': 8}</td>\n",
       "      <td>0.211256</td>\n",
       "      <td>0.595721</td>\n",
       "      <td>0.169651</td>\n",
       "      <td>-0.121077</td>\n",
       "      <td>106</td>\n",
       "      <td>0.433962</td>\n",
       "      <td>0.566038</td>\n",
       "      <td>0.766667</td>\n",
       "      <td>29</td>\n",
       "    </tr>\n",
       "    <tr>\n",
       "      <th>13230</th>\n",
       "      <td>1295790</td>\n",
       "      <td>The Longest Road on Earth</td>\n",
       "      <td>Brainwash Gang, TLR Games</td>\n",
       "      <td>Raw Fury</td>\n",
       "      <td>215</td>\n",
       "      <td>32</td>\n",
       "      <td>0 .. 20,000</td>\n",
       "      <td>0</td>\n",
       "      <td>0</td>\n",
       "      <td>0</td>\n",
       "      <td>...</td>\n",
       "      <td>{'Adventure': 268, 'Casual': 258, 'Interactive...</td>\n",
       "      <td>0.068750</td>\n",
       "      <td>0.664610</td>\n",
       "      <td>0.266660</td>\n",
       "      <td>0.551253</td>\n",
       "      <td>247</td>\n",
       "      <td>0.870445</td>\n",
       "      <td>0.129555</td>\n",
       "      <td>6.718750</td>\n",
       "      <td>29</td>\n",
       "    </tr>\n",
       "    <tr>\n",
       "      <th>11601</th>\n",
       "      <td>1064730</td>\n",
       "      <td>Fantasy Girl</td>\n",
       "      <td>Inverse Game</td>\n",
       "      <td>Inverse Game</td>\n",
       "      <td>4723</td>\n",
       "      <td>227</td>\n",
       "      <td>100,000 .. 200,000</td>\n",
       "      <td>17</td>\n",
       "      <td>0</td>\n",
       "      <td>21</td>\n",
       "      <td>...</td>\n",
       "      <td>{'Sexual Content': 122, 'Nudity': 101, 'Mature...</td>\n",
       "      <td>0.107160</td>\n",
       "      <td>0.610710</td>\n",
       "      <td>0.282090</td>\n",
       "      <td>0.335418</td>\n",
       "      <td>4950</td>\n",
       "      <td>0.954141</td>\n",
       "      <td>0.045859</td>\n",
       "      <td>20.806167</td>\n",
       "      <td>29</td>\n",
       "    </tr>\n",
       "  </tbody>\n",
       "</table>\n",
       "<p>5 rows × 26 columns</p>\n",
       "</div>"
      ],
      "text/plain": [
       "         appid                       name                  developer  \\\n",
       "13162  1285000         Stayhome Simulator                    Two Inc   \n",
       "14313  1554790            Coloring Game 4                  L. Stotch   \n",
       "10666   939390        The Life of One Dog         BrainStorming Team   \n",
       "13230  1295790  The Longest Road on Earth  Brainwash Gang, TLR Games   \n",
       "11601  1064730               Fantasy Girl               Inverse Game   \n",
       "\n",
       "          publisher  positive  negative              owners  average_forever  \\\n",
       "13162   Click Games       100        30    20,000 .. 50,000                0   \n",
       "14313     L. Stotch      1236        77  100,000 .. 200,000              118   \n",
       "10666          КиКо        46        60         0 .. 20,000                0   \n",
       "13230      Raw Fury       215        32         0 .. 20,000                0   \n",
       "11601  Inverse Game      4723       227  100,000 .. 200,000               17   \n",
       "\n",
       "       average_2weeks  median_forever  ...  \\\n",
       "13162               0               0  ...   \n",
       "14313               0             171  ...   \n",
       "10666               0               0  ...   \n",
       "13230               0               0  ...   \n",
       "11601               0              21  ...   \n",
       "\n",
       "                                                    tags  neg_sent  neu_sent  \\\n",
       "13162  {'Casual': 119, 'Indie': 118, 'Action': 116, '...  0.081627  0.603569   \n",
       "14313  {'Free to Play': 35, 'Indie': 34, 'Casual': 34...  0.060900  0.539490   \n",
       "10666                      {'Casual': 24, 'RPGMaker': 8}  0.211256  0.595721   \n",
       "13230  {'Adventure': 268, 'Casual': 258, 'Interactive...  0.068750  0.664610   \n",
       "11601  {'Sexual Content': 122, 'Nudity': 101, 'Mature...  0.107160  0.610710   \n",
       "\n",
       "       pos_sent compound_sent  n_reviews percentage_positive  \\\n",
       "13162  0.275569      0.259290        130            0.769231   \n",
       "14313  0.389620      0.533057       1313            0.941356   \n",
       "10666  0.169651     -0.121077        106            0.433962   \n",
       "13230  0.266660      0.551253        247            0.870445   \n",
       "11601  0.282090      0.335418       4950            0.954141   \n",
       "\n",
       "       percentage_negative  review_ratio  n_languages  \n",
       "13162             0.230769      3.333333           29  \n",
       "14313             0.058644     16.051948           29  \n",
       "10666             0.566038      0.766667           29  \n",
       "13230             0.129555      6.718750           29  \n",
       "11601             0.045859     20.806167           29  \n",
       "\n",
       "[5 rows x 26 columns]"
      ]
     },
     "execution_count": 156,
     "metadata": {},
     "output_type": "execute_result"
    }
   ],
   "source": [
    "games_df[\"n_languages\"] = games_df[\"languages\"].str.split(\",\").str.len()\n",
    "games_df.sort_values(by=\"n_languages\", ascending=False).head()"
   ]
  },
  {
   "cell_type": "code",
   "execution_count": 157,
   "metadata": {},
   "outputs": [
    {
     "data": {
      "text/plain": [
       "<Axes: xlabel='n_languages', ylabel='Count'>"
      ]
     },
     "execution_count": 157,
     "metadata": {},
     "output_type": "execute_result"
    },
    {
     "data": {
      "image/png": "[encoded data removed]",
      "text/plain": [
       "<Figure size 640x480 with 1 Axes>"
      ]
     },
     "metadata": {},
     "output_type": "display_data"
    }
   ],
   "source": [
    "sns.histplot(games_df[\"n_languages\"], bins=20)"
   ]
  },
  {
   "cell_type": "markdown",
   "metadata": {},
   "source": [
    "**Note:** insights from graphs"
   ]
  },
  {
   "cell_type": "code",
   "execution_count": 158,
   "metadata": {},
   "outputs": [
    {
     "data": {
      "text/plain": [
       "languages\n",
       "English                5044\n",
       "Simplified Chinese       36\n",
       "Japanese                  5\n",
       "Russian                   2\n",
       "French                    1\n",
       "Korean                    1\n",
       "Thai                      1\n",
       "Traditional Chinese       1\n",
       "Name: count, dtype: int64"
      ]
     },
     "execution_count": 158,
     "metadata": {},
     "output_type": "execute_result"
    }
   ],
   "source": [
    "games_df[games_df[\"n_languages\"] == 1].value_counts(\"languages\")"
   ]
  },
  {
   "cell_type": "markdown",
   "metadata": {},
   "source": [
    "Looking at games which only have 1 language listed, English was by far the most common language, followed by Simplified Chinese, Japenese, and Russian. We will make a variable which indicates whether the game supports English or not."
   ]
  },
  {
   "cell_type": "code",
   "execution_count": 159,
   "metadata": {},
   "outputs": [
    {
     "data": {
      "text/plain": [
       "english\n",
       "True     14571\n",
       "False       65\n",
       "Name: count, dtype: int64"
      ]
     },
     "execution_count": 159,
     "metadata": {},
     "output_type": "execute_result"
    }
   ],
   "source": [
    "games_df[\"english\"] = games_df[\"languages\"].astype(str).str.contains(\"English\")\n",
    "games_df[\"english\"].value_counts()"
   ]
  },
  {
   "cell_type": "markdown",
   "metadata": {},
   "source": [
    "## Developer and Publisher\n",
    "\n",
    "Since there is the potential for a large amount of publisher and developer values, we will create a new column which indicates whether the game is published by a major publisher or not. We will define a major publisher as one which has published more than 50 games on steam. The same will be done for developer with more than 25  games"
   ]
  },
  {
   "cell_type": "code",
   "execution_count": 160,
   "metadata": {},
   "outputs": [
    {
     "data": {
      "text/plain": [
       "(6924,)"
      ]
     },
     "execution_count": 160,
     "metadata": {},
     "output_type": "execute_result"
    }
   ],
   "source": [
    "games_df[\"publisher\"].value_counts().shape"
   ]
  },
  {
   "cell_type": "code",
   "execution_count": 161,
   "metadata": {},
   "outputs": [
    {
     "data": {
      "text/plain": [
       "(20,)"
      ]
     },
     "execution_count": 161,
     "metadata": {},
     "output_type": "execute_result"
    }
   ],
   "source": [
    "maj_pub = games_df.value_counts(\"publisher\")\n",
    "maj_pub = maj_pub[maj_pub > 50]\n",
    "maj_pub.shape"
   ]
  },
  {
   "cell_type": "code",
   "execution_count": 163,
   "metadata": {},
   "outputs": [
    {
     "data": {
      "text/plain": [
       "(6,)"
      ]
     },
     "execution_count": 163,
     "metadata": {},
     "output_type": "execute_result"
    }
   ],
   "source": [
    "maj_dev = games_df.value_counts(\"developer\")\n",
    "maj_dev = maj_dev[maj_dev > 25]\n",
    "maj_dev.shape"
   ]
  },
  {
   "cell_type": "markdown",
   "metadata": {},
   "source": [
    "# Model  Building"
   ]
  },
  {
   "cell_type": "markdown",
   "metadata": {},
   "source": [
    "## Feature Selection"
   ]
  },
  {
   "cell_type": "code",
   "execution_count": 260,
   "metadata": {},
   "outputs": [],
   "source": [
    "# Select features and target\n",
    "features = [\n",
    "    \"major_developer\",\n",
    "    \"major_publisher\",\n",
    "    \"developer\",\n",
    "    \"publisher\",\n",
    "    \"genre\",\n",
    "    \"price\",\n",
    "    \"n_languages\",\n",
    "    \"english\",\n",
    "]  # Add 'categories' if available\n",
    "X = games_df[features]\n",
    "y = games_df[\"compound_sent\"]"
   ]
  },
  {
   "cell_type": "markdown",
   "metadata": {},
   "source": [
    "## Genre Encoding\n",
    "Due to the potential for different number of genres to be in each section of our test/train split. We will encode the genres before the split."
   ]
  },
  {
   "cell_type": "markdown",
   "metadata": {},
   "source": [
    "We will be creating a regression model to predict the consumer sentiment of a new game entering the marketplace. We will be using the following features:\n",
    "- major_developer\n",
    "- major_publisher\n",
    "- developer\n",
    "- publisher\n",
    "- genre\n",
    "- price\n",
    "- n_languages\n",
    "- english\n",
    "\n",
    "We will compare two models one predicting the percentage of positive ratings as indicated by Steam, and the composite sentiment score as determined by our sentiment analysis.\n",
    "\n",
    "These features were chosen as they will be known before the game is released, and are not dependent on the popularity of the game."
   ]
  },
  {
   "cell_type": "code",
   "execution_count": 261,
   "metadata": {},
   "outputs": [],
   "source": [
    "def genre_encoding(df):\n",
    "    \"\"\"\n",
    "    Takes in a dataframe and returns a dataframe with the genre column encoded\n",
    "    \"\"\"\n",
    "    # Create our multilabel Binarizer object\n",
    "    mlb = MultiLabelBinarizer()\n",
    "\n",
    "    # Create a dataframe with the encoded genre column\n",
    "    genres = pd.DataFrame(\n",
    "        mlb.fit_transform(df[\"genre\"].astype(str).str.split(\", \")),\n",
    "        columns=mlb.classes_,\n",
    "        index=df.index,\n",
    "    )\n",
    "\n",
    "    # Filter out genres with less than 10 games\n",
    "    # red_genres = genres[genres.columns[genres.sum() > 10]]\n",
    "\n",
    "    # Concatenate the original dataframe and the encoded genres\n",
    "    df = pd.concat([df.drop(\"genre\", axis=1), genres], axis=1)\n",
    "    return df"
   ]
  },
  {
   "cell_type": "code",
   "execution_count": 262,
   "metadata": {},
   "outputs": [],
   "source": [
    "X_prep = genre_encoding(X)"
   ]
  },
  {
   "cell_type": "markdown",
   "metadata": {},
   "source": [
    "## Test and Train Sets\n",
    "\n",
    "We will use a 80-20 split for our test and train sets. We will also use a random state of 42 to ensure that our results are reproducible.\n",
    "\n",
    "80% of our original data wil be used for training, and 20% will be used for testing."
   ]
  },
  {
   "cell_type": "code",
   "execution_count": 263,
   "metadata": {},
   "outputs": [],
   "source": [
    "# Splitting data\n",
    "X_train, X_test, y_train, y_test = train_test_split(\n",
    "    X_prep, y, test_size=0.2, random_state=42\n",
    ")"
   ]
  },
  {
   "cell_type": "markdown",
   "metadata": {},
   "source": [
    "## Model Pipeline"
   ]
  },
  {
   "cell_type": "markdown",
   "metadata": {},
   "source": [
    "### Preprocessing\n",
    "\n",
    "Since we have already encoded our genres and languages, we will only need to scale our numerical variables and onehotecnode our categorical variables."
   ]
  },
  {
   "cell_type": "code",
   "execution_count": 264,
   "metadata": {},
   "outputs": [],
   "source": [
    "# Preprocessing\n",
    "preprocessor = ColumnTransformer(\n",
    "    transformers=[\n",
    "        (\"num\", StandardScaler(), [\"price\", \"n_languages\"]),\n",
    "        (\n",
    "            \"cat\",\n",
    "            OneHotEncoder(handle_unknown=\"ignore\"),\n",
    "            [\"publisher\", \"developer\"],\n",
    "        ),\n",
    "    ]\n",
    ")"
   ]
  },
  {
   "cell_type": "code",
   "execution_count": 265,
   "metadata": {},
   "outputs": [],
   "source": [
    "X_train_prep = preprocessor.fit_transform(X_train)\n",
    "X_test_prep = preprocessor.transform(X_test)"
   ]
  },
  {
   "cell_type": "markdown",
   "metadata": {},
   "source": [
    "# Model Selection"
   ]
  },
  {
   "cell_type": "markdown",
   "metadata": {},
   "source": [
    "We will start with three models:\n",
    "- Linear Regression\n",
    "- Random Forest Regressor\n",
    "- Support Vector Regressor\n",
    "\n",
    "And a voting regressor which will use all three models.\n",
    "\n",
    "The performance of each model will be evaluated using the root mean square error"
   ]
  },
  {
   "cell_type": "code",
   "execution_count": 266,
   "metadata": {},
   "outputs": [],
   "source": [
    "# Establish our regressors\n",
    "reg1 = RandomForestRegressor(n_estimators=10, random_state=42, n_jobs=-1)\n",
    "reg2 = LinearRegression()\n",
    "reg3 = SVR(kernel=\"rbf\")"
   ]
  },
  {
   "cell_type": "markdown",
   "metadata": {},
   "source": [
    "### Hyperparameter Tuning"
   ]
  },
  {
   "cell_type": "code",
   "execution_count": 267,
   "metadata": {},
   "outputs": [],
   "source": [
    "# Hyperparameter tuning grid\n",
    "param_grid = {\n",
    "    \"rf\": {\"n_estimators\": [10, 20, 30], \"max_depth\": [None, 5, 10]},\n",
    "    \"svr\": {\"C\": [0.1, 1, 10], \"kernel\": [\"linear\", \"rbf\", \"poly\"]},\n",
    "    \"lr\": {\n",
    "        \"fit_intercept\": [True, False],\n",
    "    },\n",
    "}"
   ]
  },
  {
   "cell_type": "code",
   "execution_count": 247,
   "metadata": {},
   "outputs": [
    {
     "name": "stdout",
     "output_type": "stream",
     "text": [
      "Fitting 5 folds for each of 9 candidates, totalling 45 fits\n",
      "{'max_depth': 5, 'n_estimators': 30}\n",
      "Fitting 5 folds for each of 2 candidates, totalling 10 fits\n",
      "{'fit_intercept': True}\n",
      "Fitting 5 folds for each of 9 candidates, totalling 45 fits\n",
      "{'C': 10, 'kernel': 'rbf'}\n"
     ]
    }
   ],
   "source": [
    "models = {\"rf\": reg1, \"lr\": reg2, \"svr\": reg3}\n",
    "\n",
    "best_params = {}\n",
    "# Use our param grid and GridSearchCV to find the best parameters.\n",
    "for name, model in models.items():\n",
    "    grid = GridSearchCV(model, param_grid[name], cv=5, n_jobs=-1, verbose=1)\n",
    "    grid.fit(X_train_prep, y_train)\n",
    "    best_params[name] = grid.best_params_\n",
    "    print(grid.best_params_)"
   ]
  },
  {
   "cell_type": "code",
   "execution_count": 268,
   "metadata": {},
   "outputs": [
    {
     "data": {
      "text/html": [
       "<style>#sk-container-id-6 {color: black;}#sk-container-id-6 pre{padding: 0;}#sk-container-id-6 div.sk-toggleable {background-color: white;}#sk-container-id-6 label.sk-toggleable__label {cursor: pointer;display: block;width: 100%;margin-bottom: 0;padding: 0.3em;box-sizing: border-box;text-align: center;}#sk-container-id-6 label.sk-toggleable__label-arrow:before {content: \"▸\";float: left;margin-right: 0.25em;color: #696969;}#sk-container-id-6 label.sk-toggleable__label-arrow:hover:before {color: black;}#sk-container-id-6 div.sk-estimator:hover label.sk-toggleable__label-arrow:before {color: black;}#sk-container-id-6 div.sk-toggleable__content {max-height: 0;max-width: 0;overflow: hidden;text-align: left;background-color: #f0f8ff;}#sk-container-id-6 div.sk-toggleable__content pre {margin: 0.2em;color: black;border-radius: 0.25em;background-color: #f0f8ff;}#sk-container-id-6 input.sk-toggleable__control:checked~div.sk-toggleable__content {max-height: 200px;max-width: 100%;overflow: auto;}#sk-container-id-6 input.sk-toggleable__control:checked~label.sk-toggleable__label-arrow:before {content: \"▾\";}#sk-container-id-6 div.sk-estimator input.sk-toggleable__control:checked~label.sk-toggleable__label {background-color: #d4ebff;}#sk-container-id-6 div.sk-label input.sk-toggleable__control:checked~label.sk-toggleable__label {background-color: #d4ebff;}#sk-container-id-6 input.sk-hidden--visually {border: 0;clip: rect(1px 1px 1px 1px);clip: rect(1px, 1px, 1px, 1px);height: 1px;margin: -1px;overflow: hidden;padding: 0;position: absolute;width: 1px;}#sk-container-id-6 div.sk-estimator {font-family: monospace;background-color: #f0f8ff;border: 1px dotted black;border-radius: 0.25em;box-sizing: border-box;margin-bottom: 0.5em;}#sk-container-id-6 div.sk-estimator:hover {background-color: #d4ebff;}#sk-container-id-6 div.sk-parallel-item::after {content: \"\";width: 100%;border-bottom: 1px solid gray;flex-grow: 1;}#sk-container-id-6 div.sk-label:hover label.sk-toggleable__label {background-color: #d4ebff;}#sk-container-id-6 div.sk-serial::before {content: \"\";position: absolute;border-left: 1px solid gray;box-sizing: border-box;top: 0;bottom: 0;left: 50%;z-index: 0;}#sk-container-id-6 div.sk-serial {display: flex;flex-direction: column;align-items: center;background-color: white;padding-right: 0.2em;padding-left: 0.2em;position: relative;}#sk-container-id-6 div.sk-item {position: relative;z-index: 1;}#sk-container-id-6 div.sk-parallel {display: flex;align-items: stretch;justify-content: center;background-color: white;position: relative;}#sk-container-id-6 div.sk-item::before, #sk-container-id-6 div.sk-parallel-item::before {content: \"\";position: absolute;border-left: 1px solid gray;box-sizing: border-box;top: 0;bottom: 0;left: 50%;z-index: -1;}#sk-container-id-6 div.sk-parallel-item {display: flex;flex-direction: column;z-index: 1;position: relative;background-color: white;}#sk-container-id-6 div.sk-parallel-item:first-child::after {align-self: flex-end;width: 50%;}#sk-container-id-6 div.sk-parallel-item:last-child::after {align-self: flex-start;width: 50%;}#sk-container-id-6 div.sk-parallel-item:only-child::after {width: 0;}#sk-container-id-6 div.sk-dashed-wrapped {border: 1px dashed gray;margin: 0 0.4em 0.5em 0.4em;box-sizing: border-box;padding-bottom: 0.4em;background-color: white;}#sk-container-id-6 div.sk-label label {font-family: monospace;font-weight: bold;display: inline-block;line-height: 1.2em;}#sk-container-id-6 div.sk-label-container {text-align: center;}#sk-container-id-6 div.sk-container {/* jupyter's `normalize.less` sets `[hidden] { display: none; }` but bootstrap.min.css set `[hidden] { display: none !important; }` so we also need the `!important` here to be able to override the default hidden behavior on the sphinx rendered scikit-learn.org. See: https://github.com/scikit-learn/scikit-learn/issues/21755 */display: inline-block !important;position: relative;}#sk-container-id-6 div.sk-text-repr-fallback {display: none;}</style><div id=\"sk-container-id-6\" class=\"sk-top-container\"><div class=\"sk-text-repr-fallback\"><pre>SVR(C=10)</pre><b>In a Jupyter environment, please rerun this cell to show the HTML representation or trust the notebook. <br />On GitHub, the HTML representation is unable to render, please try loading this page with nbviewer.org.</b></div><div class=\"sk-container\" hidden><div class=\"sk-item\"><div class=\"sk-estimator sk-toggleable\"><input class=\"sk-toggleable__control sk-hidden--visually\" id=\"sk-estimator-id-24\" type=\"checkbox\" checked><label for=\"sk-estimator-id-24\" class=\"sk-toggleable__label sk-toggleable__label-arrow\">SVR</label><div class=\"sk-toggleable__content\"><pre>SVR(C=10)</pre></div></div></div></div></div>"
      ],
      "text/plain": [
       "SVR(C=10)"
      ]
     },
     "execution_count": 268,
     "metadata": {},
     "output_type": "execute_result"
    }
   ],
   "source": [
    "# set the parameters for our models to the best parameters\n",
    "reg1.set_params(**best_params[\"rf\"])\n",
    "reg2.set_params(**best_params[\"lr\"])\n",
    "reg3.set_params(**best_params[\"svr\"])"
   ]
  },
  {
   "cell_type": "markdown",
   "metadata": {},
   "source": [
    "The hyperparameters for each model will be tuned using a grid search with 5-fold cross validation.\n",
    "\n",
    "The resulting hyperparameters will be used to create a new model, which will be used for our final predictions."
   ]
  },
  {
   "cell_type": "markdown",
   "metadata": {},
   "source": [
    "### Random Forest Regressor"
   ]
  },
  {
   "cell_type": "code",
   "execution_count": 269,
   "metadata": {},
   "outputs": [
    {
     "name": "stdout",
     "output_type": "stream",
     "text": [
      "Random Forest Regressor Mean Squared Error: 0.03800620869379885\n"
     ]
    }
   ],
   "source": [
    "reg1.fit(X_train_prep, y_train)\n",
    "\n",
    "y_pred = reg1.predict(X_test_prep)\n",
    "\n",
    "print(\n",
    "    \"Random Forest Regressor Mean Squared Error:\",\n",
    "    mean_squared_error(y_test, y_pred),\n",
    ")"
   ]
  },
  {
   "cell_type": "markdown",
   "metadata": {},
   "source": [
    "### Linear Regression"
   ]
  },
  {
   "cell_type": "code",
   "execution_count": 270,
   "metadata": {},
   "outputs": [
    {
     "name": "stdout",
     "output_type": "stream",
     "text": [
      "Linear Regression Mean Squared Error: 0.03865078467441476\n"
     ]
    }
   ],
   "source": [
    "reg2.fit(X_train_prep, y_train)\n",
    "\n",
    "y_pred = reg2.predict(X_test_prep)\n",
    "\n",
    "print(\n",
    "    \"Linear Regression Mean Squared Error:\", mean_squared_error(y_test, y_pred)\n",
    ")"
   ]
  },
  {
   "cell_type": "markdown",
   "metadata": {},
   "source": [
    "### Support Vector Regressor"
   ]
  },
  {
   "cell_type": "code",
   "execution_count": 271,
   "metadata": {},
   "outputs": [
    {
     "name": "stdout",
     "output_type": "stream",
     "text": [
      "SVR Mean Squared Error: 0.03412011078934351\n"
     ]
    }
   ],
   "source": [
    "reg3.fit(X_train_prep, y_train)\n",
    "\n",
    "y_pred = reg3.predict(X_test_prep)\n",
    "\n",
    "print(\"SVR Mean Squared Error:\", mean_squared_error(y_test, y_pred))"
   ]
  },
  {
   "cell_type": "markdown",
   "metadata": {},
   "source": [
    "### Voting Regressor"
   ]
  },
  {
   "cell_type": "markdown",
   "metadata": {},
   "source": [
    "Once we have determined our best hyperparameters, we will use a voting regressor to combine the results of our three models."
   ]
  },
  {
   "cell_type": "code",
   "execution_count": 272,
   "metadata": {},
   "outputs": [],
   "source": [
    "# Establish a voting regressor with the best parameters from each model\n",
    "voting_reg = VotingRegressor(\n",
    "    [(\"rf\", reg1), (\"lr\", reg2), (\"svr\", reg3)], n_jobs=-1\n",
    ")"
   ]
  },
  {
   "cell_type": "code",
   "execution_count": 273,
   "metadata": {},
   "outputs": [],
   "source": [
    "pipe4 = Pipeline(\n",
    "    steps=[\n",
    "        (\"preprocessor\", preprocessor),\n",
    "        (\"voting\", voting_reg),\n",
    "    ]\n",
    ")"
   ]
  },
  {
   "cell_type": "code",
   "execution_count": 274,
   "metadata": {},
   "outputs": [
    {
     "name": "stdout",
     "output_type": "stream",
     "text": [
      "Voting Regressor Mean Squared Error: 0.032979164982094696\n"
     ]
    }
   ],
   "source": [
    "pipe4.fit(X_train, y_train)\n",
    "\n",
    "y_pred = pipe4.predict(X_test)\n",
    "\n",
    "print(\n",
    "    \"Voting Regressor Mean Squared Error:\", mean_squared_error(y_test, y_pred)\n",
    ")"
   ]
  },
  {
   "cell_type": "markdown",
   "metadata": {},
   "source": [
    "Based on our evaluation of each model we have decided to go with the voting regressor as our final model. The voting regressor will use the results of our three models to make a prediction."
   ]
  },
  {
   "cell_type": "markdown",
   "metadata": {},
   "source": [
    "## Final Model Predictions"
   ]
  },
  {
   "cell_type": "code",
   "execution_count": 275,
   "metadata": {},
   "outputs": [
    {
     "name": "stdout",
     "output_type": "stream",
     "text": [
      "Mean Squared Error: 0.032979164982094696\n"
     ]
    }
   ],
   "source": [
    "voting_reg.fit(X_train_prep, y_train)\n",
    "\n",
    "y_pred = voting_reg.predict(X_test_prep)\n",
    "\n",
    "print(\"Mean Squared Error:\", mean_squared_error(y_test, y_pred))"
   ]
  },
  {
   "cell_type": "markdown",
   "metadata": {},
   "source": [
    "---"
   ]
  }
 ],
 "metadata": {
  "kernelspec": {
   "display_name": ".venv",
   "language": "python",
   "name": "python3"
  },
  "language_info": {
   "codemirror_mode": {
    "name": "ipython",
    "version": 3
   },
   "file_extension": ".py",
   "mimetype": "text/x-python",
   "name": "python",
   "nbconvert_exporter": "python",
   "pygments_lexer": "ipython3",
   "version": "3.10.6"
  }
 },
 "nbformat": 4,
 "nbformat_minor": 2
}
