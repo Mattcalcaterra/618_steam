{
 "cells": [
  {
   "cell_type": "code",
   "execution_count": 2,
   "metadata": {},
   "outputs": [],
   "source": [
    "# SI 618 Final Project"
   ]
  },
  {
   "cell_type": "code",
   "execution_count": 3,
   "metadata": {},
   "outputs": [],
   "source": [
    "import pandas as pd\n",
    "import numpy as np\n",
    "import matplotlib.pyplot as plt\n",
    "import seaborn as sns\n",
    "\n",
    "import re\n",
    "import json\n",
    "import requests\n",
    "import time"
   ]
  },
  {
   "cell_type": "markdown",
   "metadata": {},
   "source": [
    "## Steam Store Reviews Data\n",
    "\n",
    "Data for the review for each game in the steam store can be scraped from the web from the base url: `https://store.steampowered.com/appreviews/<appid>?json=1`\n",
    "\n",
    "This data is returned in the form of a json file"
   ]
  },
  {
   "cell_type": "code",
   "execution_count": 4,
   "metadata": {},
   "outputs": [],
   "source": [
    "def get_steam_reviews(\n",
    "    appid,\n",
    "    params={\n",
    "        \"json\": 1,\n",
    "        \"filter\": \"all\",\n",
    "        \"language\": \"english\",\n",
    "    },\n",
    "):\n",
    "    \"\"\"\n",
    "    Get Steam reviews for a specific game/app by scraping the steamstore website endpoint\n",
    "\n",
    "    Parameters\n",
    "    ----------\n",
    "    appid : int\n",
    "            Steam app id\n",
    "    params : dict\n",
    "            Parameters to pass to API call\n",
    "\n",
    "    Returns\n",
    "    -------\n",
    "    json\n",
    "            Steam reviews as json\n",
    "    \"\"\"\n",
    "    base_url = \"https://store.steampowered.com/appreviews/\"\n",
    "\n",
    "    # Uses a header to avoid being timed out by steam\n",
    "    headers = {\n",
    "        \"User-Agent\": \"Mozilla/5.0 (Windows NT 10.0; WOW64) AppleWebKit/537.36 (KHTML, like Gecko) Chrome/109.0.0.0 Safari/537.36\"\n",
    "    }\n",
    "\n",
    "    # Call API\n",
    "    response = requests.get(\n",
    "        base_url + str(appid), headers=headers, params=params\n",
    "    )\n",
    "\n",
    "    # Return as  json\n",
    "    return response.json()"
   ]
  },
  {
   "cell_type": "code",
   "execution_count": 5,
   "metadata": {},
   "outputs": [],
   "source": [
    "def get_n_reviews(appid, n=100):\n",
    "    \"\"\"\n",
    "    Function code orginially written by Andrew Muller at https://andrew-muller.medium.com/scraping-steam-user-reviews-9a43f9e38c92\n",
    "\n",
    "    The most reviews that can be returned at once is 100. This function will return n reviews for a given appid by using the cursor to get the next 100 reviews until n reviews have been returned.\n",
    "\n",
    "    Parameters\n",
    "    ----------\n",
    "    appid : int\n",
    "        The appid of the game to get reviews for\n",
    "    n : int\n",
    "        The number of reviews to return\n",
    "\n",
    "    Returns\n",
    "    -------\n",
    "    reviews : list\n",
    "        A list of dictionaries containing the reviews\n",
    "\n",
    "    \"\"\"\n",
    "    reviews = []\n",
    "    cursor = \"*\"\n",
    "    params = {\n",
    "        \"json\": 1,\n",
    "        \"filter\": \"all\",\n",
    "        \"language\": \"english\",\n",
    "        \"day_range\": 9223372036854775807,\n",
    "        \"review_type\": \"all\",\n",
    "        \"purchase_type\": \"all\",\n",
    "    }\n",
    "\n",
    "    while n > 0:\n",
    "        params[\"cursor\"] = cursor.encode()\n",
    "        params[\"num_per_page\"] = min(100, n)\n",
    "        n -= 100\n",
    "\n",
    "        response = get_steam_reviews(appid, params)\n",
    "        cursor = response[\"cursor\"]\n",
    "        reviews += response[\"reviews\"]\n",
    "\n",
    "        if len(response[\"reviews\"]) < 100:\n",
    "            break\n",
    "\n",
    "    return reviews"
   ]
  },
  {
   "cell_type": "markdown",
   "metadata": {},
   "source": [
    "## Steam Store Game Data\n",
    "\n"
   ]
  },
  {
   "cell_type": "code",
   "execution_count": 6,
   "metadata": {},
   "outputs": [],
   "source": [
    "def get_steam_game_data(params={\"request\": \"top100forever\", \"format\": \"json\"}):\n",
    "    \"\"\"\n",
    "    Uses the steamspy API to return data for games on the steam marketplace\n",
    "    default params are for the top 100 games by playtime forever, all games can be retrieved by changing the request param to all\n",
    "\n",
    "    Parameters\n",
    "    ----------\n",
    "\n",
    "    Returns\n",
    "    -------\n",
    "    json\n",
    "        Steam game data as json\n",
    "\n",
    "    \"\"\"\n",
    "    base_url = \"https://steamspy.com/api.php?\"\n",
    "    headers = {\n",
    "        \"User-Agent\": \"Mozilla/5.0 (Windows NT 10.0; WOW64) AppleWebKit/537.36 (KHTML, like Gecko) Chrome/109.0.0.0 Safari/537.36\"\n",
    "    }\n",
    "\n",
    "    response = requests.get(base_url, params=params, headers=headers)\n",
    "    return response.json()"
   ]
  },
  {
   "cell_type": "code",
   "execution_count": 7,
   "metadata": {},
   "outputs": [],
   "source": [
    "def get_all_steam_data(n):\n",
    "    \"\"\"\n",
    "    when passing 'all' as the request param, the steamspy API returns data for 1000 games per page. This function will return data for all games on steam by using the page param to get the next 1000 games until n games have been returned.\n",
    "    After each page has been returned, the data is compiled and stored in a csv and the next page is retrieved. The new page is then added to the csv file and the process continues until n games are returned. This is done to avoid losing all data if the API call fails.\n",
    "\n",
    "    The function returns a dataframe with the data for all games on steam from the csv file generated.\n",
    "\n",
    "    Parameters\n",
    "    ----------\n",
    "    n : int\n",
    "        The number of games to return\n",
    "\n",
    "    Returns\n",
    "    -------\n",
    "    df : dataframe\n",
    "        A dataframe containing the data for all games on steam\n",
    "    \"\"\"\n",
    "    params = {\"request\": \"all\", \"format\": \"json\"}\n",
    "    df = pd.DataFrame()\n",
    "    page = 1\n",
    "    while n > 0:\n",
    "        params[\"page\"] = page\n",
    "        response = get_steam_game_data(params)\n",
    "        df = df.append(pd.DataFrame.from_dict(response, orient=\"index\"))\n",
    "        n -= 1000\n",
    "        page += 0\n",
    "        df.to_csv(\"steam_data.csv\")\n",
    "\n",
    "    return df"
   ]
  },
  {
   "cell_type": "markdown",
   "metadata": {},
   "source": [
    "## Steam Store Listing Data\n",
    "\n",
    "SotrefrontAPI data was found at https://wiki.teamfortress.com/wiki/User:RJackson/StorefrontAPI"
   ]
  },
  {
   "cell_type": "code",
   "execution_count": 8,
   "metadata": {},
   "outputs": [],
   "source": [
    "def get_steam_store_data(appid):\n",
    "    base_url = \"https://store.steampowered.com/api/appdetails/\"\n",
    "\n",
    "    params = {\"appids\": appid}\n",
    "\n",
    "    response = requests.get(base_url, params=params)\n",
    "    return response.json()"
   ]
  },
  {
   "cell_type": "markdown",
   "metadata": {},
   "source": [
    "## Create Dataframes"
   ]
  },
  {
   "cell_type": "code",
   "execution_count": 9,
   "metadata": {},
   "outputs": [],
   "source": [
    "def create_review_df(game_df, n_reviews=100):\n",
    "    review_list = []\n",
    "    for appid in game_df.appid:\n",
    "        try:\n",
    "            # Get Review Data for each appid in the dataframe\n",
    "            response = get_n_reviews(appid, n_reviews)\n",
    "            for review in response:\n",
    "                review_dict = {\n",
    "                    \"appid\": appid,\n",
    "                    \"recommendationid\": review[\"recommendationid\"],\n",
    "                    \"author\": review[\"author\"][\"steamid\"],\n",
    "                    \"author_playtime_forever\": review[\"author\"][\n",
    "                        \"playtime_forever\"\n",
    "                    ],\n",
    "                    \"author_playtime_last_two_weeks\": review[\"author\"][\n",
    "                        \"playtime_last_two_weeks\"\n",
    "                    ],\n",
    "                    \"author_last_played\": review[\"author\"][\"last_played\"],\n",
    "                    \"author_num_reviews\": review[\"author\"][\"num_reviews\"],\n",
    "                    \"votes_up\": review[\"votes_up\"],\n",
    "                    \"votes_funny\": review[\"votes_funny\"],\n",
    "                    \"weighted_vote_score\": review[\"weighted_vote_score\"],\n",
    "                    \"comment_count\": review[\"comment_count\"],\n",
    "                    \"timestamp_created\": review[\"timestamp_created\"],\n",
    "                    \"timestamp_updated\": review[\"timestamp_updated\"],\n",
    "                    \"steam_purchase\": review[\"steam_purchase\"],\n",
    "                    \"received_for_free\": review[\"received_for_free\"],\n",
    "                    \"written_during_early_access\": review[\n",
    "                        \"written_during_early_access\"\n",
    "                    ],\n",
    "                    \"review\": review[\"review\"],\n",
    "                }\n",
    "\n",
    "                review_list.append(review_dict)\n",
    "        except:\n",
    "            print(appid)\n",
    "\n",
    "    return pd.DataFrame(review_list)"
   ]
  },
  {
   "cell_type": "code",
   "execution_count": 10,
   "metadata": {},
   "outputs": [],
   "source": [
    "def create_store_df(game_df):\n",
    "    store_data_list = []\n",
    "    for appid in game_df.appid:\n",
    "        try:\n",
    "            store_data_list.append(\n",
    "                get_steam_store_data(appid)[str(appid)][\"data\"]\n",
    "            )\n",
    "        except:\n",
    "            print(appid)\n",
    "\n",
    "    return pd.DataFrame(store_data_list)"
   ]
  },
  {
   "cell_type": "markdown",
   "metadata": {},
   "source": [
    "# Data to dataframes"
   ]
  },
  {
   "cell_type": "code",
   "execution_count": 11,
   "metadata": {},
   "outputs": [],
   "source": [
    "# game_df = pd.DataFrame().from_dict(get_steam_game_data(), orient=\"index\")\n",
    "game_df = pd.read_csv(\"data/steamspy_data.csv\")"
   ]
  },
  {
   "cell_type": "code",
   "execution_count": 13,
   "metadata": {},
   "outputs": [],
   "source": [
    "# review_df = create_review_df(game_df)\n",
    "review_df = pd.read_csv(\"data/steam_review_data.csv\")"
   ]
  },
  {
   "cell_type": "code",
   "execution_count": 24,
   "metadata": {},
   "outputs": [
    {
     "data": {
      "text/plain": [
       "14642"
      ]
     },
     "execution_count": 24,
     "metadata": {},
     "output_type": "execute_result"
    }
   ],
   "source": [
    "# reduce review_df to only include reviews for games in game_df\n",
    "review_df = review_df[review_df.appid.isin(game_df.appid)]"
   ]
  },
  {
   "cell_type": "code",
   "execution_count": 27,
   "metadata": {},
   "outputs": [],
   "source": [
    "review_df.to_csv(\n",
    "    \"data/steam_review_data1.csv.gz\", compression=\"gzip\", index=False\n",
    ")"
   ]
  }
 ],
 "metadata": {
  "kernelspec": {
   "display_name": "Python 3",
   "language": "python",
   "name": "python3"
  },
  "language_info": {
   "codemirror_mode": {
    "name": "ipython",
    "version": 3
   },
   "file_extension": ".py",
   "mimetype": "text/x-python",
   "name": "python",
   "nbconvert_exporter": "python",
   "pygments_lexer": "ipython3",
   "version": "3.10.6"
  }
 },
 "nbformat": 4,
 "nbformat_minor": 2
}
